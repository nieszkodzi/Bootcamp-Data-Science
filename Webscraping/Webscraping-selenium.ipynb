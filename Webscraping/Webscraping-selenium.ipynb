{
 "cells": [
  {
   "cell_type": "markdown",
   "metadata": {},
   "source": [
    "# Instalacja"
   ]
  },
  {
   "cell_type": "markdown",
   "metadata": {},
   "source": [
    "* w terminalu wykonaj: `conda install -c conda-forge selenium`\n",
    "* zupełnie niezależnie wejdź na stronę `https://github.com/mozilla/geckodriver/releases`\n",
    "* ściągnij `geckodriver-v0.23.0-linux64.tar.gz`\n",
    "* rozpakuj (dwa razy kliknij myszą, przeciągnij do folderu Pobrane)\n",
    "* w Terminalu wejdź do folderu Pobrane, a następnie wykonaj `sudo cp geckodriver /usr/local/bin`"
   ]
  },
  {
   "cell_type": "markdown",
   "metadata": {},
   "source": [
    "Kod poniżej powinien otworzyć okno przeglądarki, chwilę coś porobić, a potem je zamknąć bez błędu"
   ]
  },
  {
   "cell_type": "code",
   "execution_count": 2,
   "metadata": {},
   "outputs": [],
   "source": [
    "from selenium import webdriver\n",
    "from selenium.webdriver.common.keys import Keys\n",
    "import time\n",
    "\n",
    "driver = webdriver.Firefox()\n",
    "driver.get(\"http://www.python.org\")\n",
    "assert \"Python\" in driver.title\n",
    "elem = driver.find_element_by_name(\"q\")\n",
    "elem.clear()\n",
    "elem.send_keys(\"pycon\")\n",
    "elem.send_keys(Keys.RETURN)\n",
    "time.sleep(2)\n",
    "assert \"No results found.\" not in driver.page_source\n",
    "driver.close()"
   ]
  },
  {
   "cell_type": "code",
   "execution_count": 19,
   "metadata": {},
   "outputs": [
    {
     "data": {
      "text/plain": [
       "199"
      ]
     },
     "execution_count": 19,
     "metadata": {},
     "output_type": "execute_result"
    }
   ],
   "source": [
    "driver = webdriver.Firefox()\n",
    "driver.get(\"https://nik.bot.nu/brws.html#list/tag:train\")\n",
    "SCROLL_PAUSE_TIME = 0.5\n",
    "\n",
    "# Get scroll height\n",
    "last_height = driver.execute_script(\"return document.body.scrollHeight\")\n",
    "\n",
    "while True:\n",
    "    # Scroll down to bottom\n",
    "    driver.execute_script(\"window.scrollTo(0, document.body.scrollHeight);\")\n",
    "\n",
    "    # Wait to load page\n",
    "    time.sleep(SCROLL_PAUSE_TIME)\n",
    "\n",
    "    # Calculate new scroll height and compare with last scroll height\n",
    "    new_height = driver.execute_script(\"return document.body.scrollHeight\")\n",
    "    if new_height == last_height:\n",
    "        break\n",
    "    last_height = new_height\n",
    "\n",
    "time.sleep(2)    \n",
    "    \n",
    "page = driver.page_source\n",
    "driver.close()\n",
    "\n",
    "from bs4 import BeautifulSoup\n",
    "\n",
    "soup = BeautifulSoup(page, 'html.parser')\n",
    "len(soup.find_all(\"img\"))"
   ]
  },
  {
   "cell_type": "code",
   "execution_count": 36,
   "metadata": {},
   "outputs": [
    {
     "ename": "NameError",
     "evalue": "name 'WebDriverWait' is not defined",
     "output_type": "error",
     "traceback": [
      "\u001b[0;31m---------------------------------------------------------------------------\u001b[0m",
      "\u001b[0;31mNameError\u001b[0m                                 Traceback (most recent call last)",
      "\u001b[0;32m<ipython-input-36-988d91b01b3a>\u001b[0m in \u001b[0;36m<module>\u001b[0;34m()\u001b[0m\n\u001b[0;32m----> 1\u001b[0;31m \u001b[0mWebDriverWait\u001b[0m\u001b[0;34m,\u001b[0m \u001b[0muntil\u001b[0m\u001b[0;34m,\u001b[0m \u001b[0mEC\u001b[0m\u001b[0;34m,\u001b[0m \u001b[0mpresence_of_element_located\u001b[0m\u001b[0;34m\u001b[0m\u001b[0m\n\u001b[0m\u001b[1;32m      2\u001b[0m \u001b[0msite\u001b[0m \u001b[0;34m=\u001b[0m \u001b[0;34m\"https://sos.mini.pw.edu.pl/\"\u001b[0m\u001b[0;34m\u001b[0m\u001b[0m\n\u001b[1;32m      3\u001b[0m \u001b[0mlogin\u001b[0m \u001b[0;34m=\u001b[0m \u001b[0;34m\"252087\"\u001b[0m\u001b[0;34m\u001b[0m\u001b[0m\n\u001b[1;32m      4\u001b[0m \u001b[0mpassword\u001b[0m \u001b[0;34m=\u001b[0m \u001b[0;34m\"Iw252087\"\u001b[0m\u001b[0;34m\u001b[0m\u001b[0m\n\u001b[1;32m      5\u001b[0m \u001b[0;34m\u001b[0m\u001b[0m\n",
      "\u001b[0;31mNameError\u001b[0m: name 'WebDriverWait' is not defined"
     ]
    }
   ],
   "source": [
    "site = \"https://sos.mini.pw.edu.pl/\"\n",
    "login = \"252087\"\n",
    "password = \"Iw252087\"\n",
    "\n",
    "browser = webdriver.Firefox()\n",
    "browser.get(site)\n",
    "\n",
    "#Write Username in Username TextBox\n",
    "usernameField = browser.find_element_by_id(\"username\")\n",
    "usernameField.send_keys(login)\n",
    "\n",
    "#Write Password in password TextBox\n",
    "passwordField = browser.find_element_by_id(\"password\")\n",
    "passwordField.send_keys(password)\n",
    "passwordField.submit()\n",
    "\n",
    "time.sleep(1)\n",
    "browser.get(\"https://sos.mini.pw.edu.pl/Student/Scores\")\n",
    "\n",
    "punkty = WebDriverWait(driver, 10).until(\n",
    "        EC.presence_of_element_located((By.CSS_SELECTOR, \"span.pull-right.text-italic.text-underscore\"))\n",
    "    )\n",
    "\n",
    "print(punkty)\n",
    "print(punkty.text)\n",
    "driver.close()"
   ]
  },
  {
   "cell_type": "code",
   "execution_count": null,
   "metadata": {},
   "outputs": [],
   "source": []
  }
 ],
 "metadata": {
  "kernelspec": {
   "display_name": "Python 3",
   "language": "python",
   "name": "python3"
  },
  "language_info": {
   "codemirror_mode": {
    "name": "ipython",
    "version": 3
   },
   "file_extension": ".py",
   "mimetype": "text/x-python",
   "name": "python",
   "nbconvert_exporter": "python",
   "pygments_lexer": "ipython3",
   "version": "3.6.5"
  }
 },
 "nbformat": 4,
 "nbformat_minor": 2
}
