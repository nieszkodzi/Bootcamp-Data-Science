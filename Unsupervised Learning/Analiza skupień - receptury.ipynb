{
 "cells": [
  {
   "cell_type": "markdown",
   "metadata": {},
   "source": [
    "# Analiza skupień - receptury"
   ]
  },
  {
   "cell_type": "markdown",
   "metadata": {},
   "source": [
    "linkage, fcluster (scipy)"
   ]
  },
  {
   "cell_type": "markdown",
   "metadata": {},
   "source": [
    "[Scipy]()\n",
    "\n",
    "'''python\n",
    "#przykład użycia (i z jakiej paczki pochodzi)\n",
    "\n",
    "Z = linkage(df, \"ward\")\n",
    "\n",
    "\n",
    "'''"
   ]
  },
  {
   "cell_type": "code",
   "execution_count": null,
   "metadata": {},
   "outputs": [],
   "source": [
    "\n",
    "method = 'ward'\n",
    "\n",
    "from scipy.cluster.hierarchy import ward, fcluster\n",
    "Perform Ward’s linkage on a condensed distance matrix.\n",
    "\n",
    "metrics = 'euclidean'\n",
    "Computes the Euclidean distance between two 1-D arrays.\n",
    "\n",
    "from scipy.spatial import distance\n",
    "scipy.spatial.distance.euclidean(u, v, w=None)\n",
    "distance.euclidean([1, 1, 0], [0, 1, 0])"
   ]
  },
  {
   "cell_type": "code",
   "execution_count": null,
   "metadata": {},
   "outputs": [],
   "source": []
  }
 ],
 "metadata": {
  "kernelspec": {
   "display_name": "Python 3",
   "language": "python",
   "name": "python3"
  },
  "language_info": {
   "codemirror_mode": {
    "name": "ipython",
    "version": 3
   },
   "file_extension": ".py",
   "mimetype": "text/x-python",
   "name": "python",
   "nbconvert_exporter": "python",
   "pygments_lexer": "ipython3",
   "version": "3.6.0"
  }
 },
 "nbformat": 4,
 "nbformat_minor": 2
}
