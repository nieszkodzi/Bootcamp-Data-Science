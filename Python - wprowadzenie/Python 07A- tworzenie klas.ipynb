{
 "cells": [
  {
   "cell_type": "markdown",
   "metadata": {},
   "source": []
  },
  {
   "cell_type": "markdown",
   "metadata": {},
   "source": [
    "# Programowanie obiektowe"
   ]
  },
  {
   "cell_type": "markdown",
   "metadata": {},
   "source": [
    "* Pola/Atrybuty to zmienne.\n",
    "* Metody to funkcje\n",
    "\n",
    "## Przykład:\n",
    "* Klasa człowiek\n",
    "    * Posiada atrybuty:\n",
    "        * Imię\n",
    "        * Nazwisko\n",
    "        * Wiek\n",
    "        * Wzrost\n",
    "    * Posiada metody:\n",
    "        * Jeść\n",
    "        * Pić\n",
    "        * Spać\n",
    "        "
   ]
  },
  {
   "cell_type": "code",
   "execution_count": 1,
   "metadata": {},
   "outputs": [],
   "source": [
    "# od Pythona 2.2 powinniśmy dawać w nawiasach, po nazwie klasy, klasę wbudowaną, \n",
    "# z której dziedziczy nasza klasa np. class Czlowiek(object):\n",
    "class Czlowiek:\n",
    "    # Poniżej definicja konstruktora\n",
    "    def __init__(self,imie,nazwisko,wiek,wzrost):\n",
    "        self.imie = imie\n",
    "        self.nazwisko = nazwisko\n",
    "        self.wiek = wiek\n",
    "        self.wzrost = wzrost"
   ]
  },
  {
   "cell_type": "code",
   "execution_count": 2,
   "metadata": {
    "scrolled": true
   },
   "outputs": [],
   "source": [
    "adam = Czlowiek('Adam' , 'Nowak' , 30 , 186)"
   ]
  },
  {
   "cell_type": "code",
   "execution_count": 3,
   "metadata": {},
   "outputs": [],
   "source": [
    "ewa = Czlowiek('Ewa' , 'Snejk' , 23 , 170)"
   ]
  },
  {
   "cell_type": "markdown",
   "metadata": {},
   "source": [
    "## Jak używać atrybutów?"
   ]
  },
  {
   "cell_type": "code",
   "execution_count": 4,
   "metadata": {},
   "outputs": [
    {
     "data": {
      "text/plain": [
       "['Adam', 'Nowak']"
      ]
     },
     "execution_count": 4,
     "metadata": {},
     "output_type": "execute_result"
    }
   ],
   "source": [
    "[adam.imie, adam.nazwisko]"
   ]
  },
  {
   "cell_type": "code",
   "execution_count": 5,
   "metadata": {},
   "outputs": [
    {
     "data": {
      "text/plain": [
       "30"
      ]
     },
     "execution_count": 5,
     "metadata": {},
     "output_type": "execute_result"
    }
   ],
   "source": [
    "adam.wiek"
   ]
  },
  {
   "cell_type": "code",
   "execution_count": 6,
   "metadata": {},
   "outputs": [
    {
     "data": {
      "text/plain": [
       "186"
      ]
     },
     "execution_count": 6,
     "metadata": {},
     "output_type": "execute_result"
    }
   ],
   "source": [
    "adam.wzrost"
   ]
  },
  {
   "cell_type": "code",
   "execution_count": 7,
   "metadata": {},
   "outputs": [
    {
     "data": {
      "text/plain": [
       "{'imie': 'Adam', 'nazwisko': 'Nowak', 'wiek': 30, 'wzrost': 186}"
      ]
     },
     "execution_count": 7,
     "metadata": {},
     "output_type": "execute_result"
    }
   ],
   "source": [
    "adam.__dict__"
   ]
  },
  {
   "cell_type": "code",
   "execution_count": 8,
   "metadata": {},
   "outputs": [
    {
     "data": {
      "text/plain": [
       "True"
      ]
     },
     "execution_count": 8,
     "metadata": {},
     "output_type": "execute_result"
    }
   ],
   "source": [
    "isinstance (adam, Czlowiek)"
   ]
  },
  {
   "cell_type": "code",
   "execution_count": 9,
   "metadata": {},
   "outputs": [],
   "source": [
    "class Samochod:\n",
    "    def __init__(self, marka, model, kolor, rocznik):\n",
    "        self.marka = marka\n",
    "        self.model = model\n",
    "        self.kolor = kolor\n",
    "        self.rocznik = rocznik"
   ]
  },
  {
   "cell_type": "code",
   "execution_count": 10,
   "metadata": {},
   "outputs": [],
   "source": [
    "mazda = Samochod('mazda' , '6' , 'czarny' ,'2005')"
   ]
  },
  {
   "cell_type": "code",
   "execution_count": 11,
   "metadata": {},
   "outputs": [
    {
     "data": {
      "text/plain": [
       "False"
      ]
     },
     "execution_count": 11,
     "metadata": {},
     "output_type": "execute_result"
    }
   ],
   "source": [
    "isinstance (mazda, Czlowiek)"
   ]
  },
  {
   "cell_type": "code",
   "execution_count": 12,
   "metadata": {},
   "outputs": [
    {
     "data": {
      "text/plain": [
       "True"
      ]
     },
     "execution_count": 12,
     "metadata": {},
     "output_type": "execute_result"
    }
   ],
   "source": [
    "isinstance (mazda, Samochod)"
   ]
  },
  {
   "cell_type": "code",
   "execution_count": 13,
   "metadata": {},
   "outputs": [
    {
     "data": {
      "text/plain": [
       "__main__.Samochod"
      ]
     },
     "execution_count": 13,
     "metadata": {},
     "output_type": "execute_result"
    }
   ],
   "source": [
    "mazda.__class__"
   ]
  },
  {
   "cell_type": "code",
   "execution_count": 14,
   "metadata": {},
   "outputs": [],
   "source": [
    "class Samochod:\n",
    "    ILOSC_KOL = 4\n",
    "    def __init__(self, marka, model, kolor, rocznik):\n",
    "        self.marka = marka\n",
    "        self.model = model\n",
    "        self.kolor = kolor\n",
    "        self.rocznik = rocznik\n",
    "        \n",
    "    def full_name(self):\n",
    "        print(\"To jest {} {}\".format(self.marka , self.model))"
   ]
  },
  {
   "cell_type": "code",
   "execution_count": 15,
   "metadata": {},
   "outputs": [
    {
     "data": {
      "text/plain": [
       "4"
      ]
     },
     "execution_count": 15,
     "metadata": {},
     "output_type": "execute_result"
    }
   ],
   "source": [
    "Samochod.ILOSC_KOL"
   ]
  },
  {
   "cell_type": "code",
   "execution_count": 16,
   "metadata": {},
   "outputs": [],
   "source": [
    "scania = Samochod('scania', 'cos' , 'niebieski' , '1995')"
   ]
  },
  {
   "cell_type": "code",
   "execution_count": 17,
   "metadata": {},
   "outputs": [],
   "source": [
    "scania.ILOSC_KOL = 6"
   ]
  },
  {
   "cell_type": "code",
   "execution_count": 18,
   "metadata": {},
   "outputs": [
    {
     "data": {
      "text/plain": [
       "6"
      ]
     },
     "execution_count": 18,
     "metadata": {},
     "output_type": "execute_result"
    }
   ],
   "source": [
    "scania.ILOSC_KOL"
   ]
  },
  {
   "cell_type": "code",
   "execution_count": 19,
   "metadata": {},
   "outputs": [
    {
     "name": "stdout",
     "output_type": "stream",
     "text": [
      "To jest scania cos\n"
     ]
    }
   ],
   "source": [
    "scania.full_name()"
   ]
  },
  {
   "cell_type": "code",
   "execution_count": 20,
   "metadata": {},
   "outputs": [
    {
     "data": {
      "text/plain": [
       "<bound method Samochod.full_name of <__main__.Samochod object at 0x7f024459e550>>"
      ]
     },
     "execution_count": 20,
     "metadata": {},
     "output_type": "execute_result"
    }
   ],
   "source": [
    "scania.full_name # nie użycie () teraz nie zadziała bez atrybutu @property"
   ]
  },
  {
   "cell_type": "code",
   "execution_count": 21,
   "metadata": {},
   "outputs": [],
   "source": [
    "class Samochod:\n",
    "    ILOSC_KOL = 4\n",
    "    def __init__(self, marka, model, kolor, rocznik):\n",
    "        self.marka = marka\n",
    "        self.model = model\n",
    "        self.kolor = kolor\n",
    "        self.rocznik = rocznik\n",
    "    \n",
    "    @property\n",
    "    def full_name(self):\n",
    "        print(\"To jest {} {}\".format(self.marka , self.model))"
   ]
  },
  {
   "cell_type": "code",
   "execution_count": 22,
   "metadata": {},
   "outputs": [],
   "source": [
    "scania = Samochod('scania', 'cos' , 'niebieski' , '1995') #po zmianie kodu musimy ponownie zaimplementować obiekt"
   ]
  },
  {
   "cell_type": "code",
   "execution_count": 23,
   "metadata": {},
   "outputs": [
    {
     "name": "stdout",
     "output_type": "stream",
     "text": [
      "To jest scania cos\n"
     ]
    }
   ],
   "source": [
    "scania.full_name # po dodaniu atrybutu @property metodę można używać jak atrybut"
   ]
  },
  {
   "cell_type": "code",
   "execution_count": 24,
   "metadata": {},
   "outputs": [],
   "source": [
    "class Samochod:\n",
    "    ILOSC_KOL = 4\n",
    "    def __init__(self, marka, model, kolor, rocznik):\n",
    "        self.marka = marka\n",
    "        self.model = model\n",
    "        self.kolor = kolor\n",
    "        self.rocznik = rocznik\n",
    "    \n",
    "    @property\n",
    "    def full_name(self):\n",
    "        return(\"To jest {} {}\".format(self.marka , self.model))\n",
    "        \n",
    "    # metody specjalne __str__\n",
    "    def __str__(self):\n",
    "        return self.full_name"
   ]
  },
  {
   "cell_type": "code",
   "execution_count": 25,
   "metadata": {},
   "outputs": [],
   "source": [
    "scania = Samochod('scania', 'cos' , 'niebieski' , '1995') #po zmianie kodu musimy ponownie zaimplementować obiekt"
   ]
  },
  {
   "cell_type": "code",
   "execution_count": 26,
   "metadata": {},
   "outputs": [
    {
     "data": {
      "text/plain": [
       "'To jest scania cos'"
      ]
     },
     "execution_count": 26,
     "metadata": {},
     "output_type": "execute_result"
    }
   ],
   "source": [
    "str(scania)"
   ]
  },
  {
   "cell_type": "code",
   "execution_count": 27,
   "metadata": {},
   "outputs": [],
   "source": [
    "class Czlowiek:\n",
    "    ILOSC_RAK=2\n",
    "    def __init__ (self , imie , nazwisko , rok_urodzenia , kolor_oczu):\n",
    "        self.imie = imie\n",
    "        self.nazwisko = nazwisko\n",
    "        self.rok_urodzenia = rok_urodzenia\n",
    "        self.kolor_oczu = kolor_oczu\n",
    "    \n",
    "    @property\n",
    "    def full_name(self):\n",
    "        return \"{} {} to {}, urodzony w roku {}, a jego/jej kolor oczu jest {}\".format(self.imie , self.nazwisko, self.__class__, self.rok_urodzenia , self.kolor_oczu)\n",
    "    def __str__(self):\n",
    "        return self.full_name\n",
    "    def __repr__(self):\n",
    "        return self.full_name"
   ]
  },
  {
   "cell_type": "code",
   "execution_count": 28,
   "metadata": {},
   "outputs": [],
   "source": [
    "adam = Czlowiek('Adam' , 'Nowak' , 1992 , 'niebieski')"
   ]
  },
  {
   "cell_type": "code",
   "execution_count": 29,
   "metadata": {},
   "outputs": [
    {
     "data": {
      "text/plain": [
       "\"Adam Nowak to <class '__main__.Czlowiek'>, urodzony w roku 1992, a jego/jej kolor oczu jest niebieski\""
      ]
     },
     "execution_count": 29,
     "metadata": {},
     "output_type": "execute_result"
    }
   ],
   "source": [
    "adam.full_name"
   ]
  },
  {
   "cell_type": "code",
   "execution_count": 30,
   "metadata": {},
   "outputs": [
    {
     "data": {
      "text/plain": [
       "\"Adam Nowak to <class '__main__.Czlowiek'>, urodzony w roku 1992, a jego/jej kolor oczu jest niebieski\""
      ]
     },
     "execution_count": 30,
     "metadata": {},
     "output_type": "execute_result"
    }
   ],
   "source": [
    "str(adam)"
   ]
  },
  {
   "cell_type": "code",
   "execution_count": 31,
   "metadata": {},
   "outputs": [
    {
     "data": {
      "text/plain": [
       "\"Adam Nowak to <class '__main__.Czlowiek'>, urodzony w roku 1992, a jego/jej kolor oczu jest niebieski\""
      ]
     },
     "execution_count": 31,
     "metadata": {},
     "output_type": "execute_result"
    }
   ],
   "source": [
    "repr(adam)"
   ]
  },
  {
   "cell_type": "code",
   "execution_count": 32,
   "metadata": {},
   "outputs": [],
   "source": [
    "class Samochod:\n",
    "    ILOSC_KOL = 4\n",
    "    def __init__(self, marka, model, kolor, rocznik):\n",
    "        self.marka = marka\n",
    "        self.model = model\n",
    "        self.kolor = kolor\n",
    "        self.rocznik = rocznik\n",
    "    \n",
    "    @property\n",
    "    def full_name(self):\n",
    "        return(\"To jest {} {}\".format(self.marka , self.model))\n",
    "    \n",
    "    def __gt__(self, other):\n",
    "        return self.rocznik > other.rocznik"
   ]
  },
  {
   "cell_type": "code",
   "execution_count": 33,
   "metadata": {},
   "outputs": [],
   "source": [
    "scania = Samochod('scania', 'cos' , 'niebieski' , 1995)\n",
    "mazda = Samochod('mazda' , '6' , 'czarny' , 2005)"
   ]
  },
  {
   "cell_type": "code",
   "execution_count": 34,
   "metadata": {},
   "outputs": [
    {
     "data": {
      "text/plain": [
       "False"
      ]
     },
     "execution_count": 34,
     "metadata": {},
     "output_type": "execute_result"
    }
   ],
   "source": [
    "scania > mazda"
   ]
  },
  {
   "cell_type": "code",
   "execution_count": 35,
   "metadata": {},
   "outputs": [
    {
     "data": {
      "text/plain": [
       "True"
      ]
     },
     "execution_count": 35,
     "metadata": {},
     "output_type": "execute_result"
    }
   ],
   "source": [
    "scania < mazda"
   ]
  },
  {
   "cell_type": "code",
   "execution_count": 36,
   "metadata": {},
   "outputs": [],
   "source": [
    "class Samochod:\n",
    "    ILOSC_KOL = 4\n",
    "    def __init__(self, marka, model, kolor, rocznik, moc, spalanie):\n",
    "        self.marka = marka\n",
    "        self.model = model\n",
    "        self.kolor = kolor\n",
    "        self.rocznik = rocznik\n",
    "        self.moc = moc\n",
    "        self.spalanie = spalanie\n",
    "    \n",
    "    @property\n",
    "    def full_name(self):\n",
    "        return(\"To jest {} {}\".format(self.marka, self.model))\n",
    "    \n",
    "    def __gt__(self, other):\n",
    "        return self.rocznik > other.rocznik\n",
    "    \n",
    "    def wyswietl_przebieg(self):\n",
    "        print(self.przebieg)\n",
    "        \n",
    "    def konwertuj(mile_na_galon):\n",
    "        return(mile_na_galon.spalanie * (378.541178/1.609344))"
   ]
  },
  {
   "cell_type": "code",
   "execution_count": 37,
   "metadata": {},
   "outputs": [],
   "source": [
    "scania = Samochod('scania', 'cos' , 'niebieski' , 1995 , 110 , 3)\n",
    "mazda = Samochod('mazda' , '6' , 'czarny' , 2005 , 130, 6)"
   ]
  },
  {
   "cell_type": "code",
   "execution_count": 38,
   "metadata": {},
   "outputs": [
    {
     "data": {
      "text/plain": [
       "'To jest mazda 6'"
      ]
     },
     "execution_count": 38,
     "metadata": {},
     "output_type": "execute_result"
    }
   ],
   "source": [
    "mazda.full_name"
   ]
  },
  {
   "cell_type": "code",
   "execution_count": 39,
   "metadata": {},
   "outputs": [
    {
     "data": {
      "text/plain": [
       "1411.287498508709"
      ]
     },
     "execution_count": 39,
     "metadata": {},
     "output_type": "execute_result"
    }
   ],
   "source": [
    "mazda.konwertuj()"
   ]
  },
  {
   "cell_type": "code",
   "execution_count": 40,
   "metadata": {},
   "outputs": [],
   "source": [
    "class Samochod:\n",
    "    ILOSC_KOL = 4\n",
    "    LITRY_NA_GALON = 3.78541178\n",
    "    KILOMETROW_NA_MILE = 1.609344\n",
    "    \n",
    "    def __init__(self, marka, model, kolor, rocznik, moc, spalanie):\n",
    "        self.marka = marka\n",
    "        self.model = model\n",
    "        self.kolor = kolor\n",
    "        self.rocznik = rocznik\n",
    "        self.moc = moc\n",
    "        self.spalanie = spalanie\n",
    "    \n",
    "    @property\n",
    "    def full_name(self):\n",
    "        return(\"To jest {} {}\".format(self.marka, self.model))\n",
    "    \n",
    "    def __gt__(self, other):\n",
    "        return self.rocznik > other.rocznik\n",
    "    \n",
    "    def wyswietl_przebieg(self):\n",
    "        print(self.przebieg)\n",
    "    \n",
    "    @staticmethod\n",
    "    def konwertuj(mile_na_galon):\n",
    "        return(100*Samochod.LITRY_NA_GALON/(Samochod.KILOMETROW_NA_MILE*mile_na_galon))"
   ]
  },
  {
   "cell_type": "code",
   "execution_count": 41,
   "metadata": {},
   "outputs": [],
   "source": [
    "scania = Samochod('scania', 'cos' , 'niebieski' , 1995 , 110 , 3)\n",
    "mazda = Samochod('mazda' , '6' , 'czarny' , 2005 , 130, 6)"
   ]
  },
  {
   "cell_type": "code",
   "execution_count": 42,
   "metadata": {},
   "outputs": [
    {
     "data": {
      "text/plain": [
       "7.840486102826161"
      ]
     },
     "execution_count": 42,
     "metadata": {},
     "output_type": "execute_result"
    }
   ],
   "source": [
    "mazda.konwertuj(30)"
   ]
  },
  {
   "cell_type": "code",
   "execution_count": 43,
   "metadata": {},
   "outputs": [],
   "source": [
    "class Samochod_dostawczy(Samochod):\n",
    "    def __init__(self, marka, model, kolor, rocznik, moc):\n",
    "        self.model = model\n",
    "        self.marka = marka\n",
    "        self.kolor = kolor\n",
    "        self.rocznik = rocznik\n",
    "        self.moc = moc\n",
    "        "
   ]
  },
  {
   "cell_type": "code",
   "execution_count": 44,
   "metadata": {},
   "outputs": [],
   "source": [
    "scania = Samochod_dostawczy('scania', 'p', 'bialy', 2015, 350)"
   ]
  },
  {
   "cell_type": "code",
   "execution_count": 45,
   "metadata": {},
   "outputs": [
    {
     "name": "stdout",
     "output_type": "stream",
     "text": [
      "Help on class Samochod in module __main__:\n",
      "\n",
      "class Samochod(builtins.object)\n",
      " |  Methods defined here:\n",
      " |  \n",
      " |  __gt__(self, other)\n",
      " |      Return self>value.\n",
      " |  \n",
      " |  __init__(self, marka, model, kolor, rocznik, moc, spalanie)\n",
      " |      Initialize self.  See help(type(self)) for accurate signature.\n",
      " |  \n",
      " |  wyswietl_przebieg(self)\n",
      " |  \n",
      " |  ----------------------------------------------------------------------\n",
      " |  Static methods defined here:\n",
      " |  \n",
      " |  konwertuj(mile_na_galon)\n",
      " |  \n",
      " |  ----------------------------------------------------------------------\n",
      " |  Data descriptors defined here:\n",
      " |  \n",
      " |  __dict__\n",
      " |      dictionary for instance variables (if defined)\n",
      " |  \n",
      " |  __weakref__\n",
      " |      list of weak references to the object (if defined)\n",
      " |  \n",
      " |  full_name\n",
      " |  \n",
      " |  ----------------------------------------------------------------------\n",
      " |  Data and other attributes defined here:\n",
      " |  \n",
      " |  ILOSC_KOL = 4\n",
      " |  \n",
      " |  KILOMETROW_NA_MILE = 1.609344\n",
      " |  \n",
      " |  LITRY_NA_GALON = 3.78541178\n",
      "\n"
     ]
    }
   ],
   "source": [
    "help(Samochod)"
   ]
  },
  {
   "cell_type": "code",
   "execution_count": 46,
   "metadata": {},
   "outputs": [
    {
     "data": {
      "text/plain": [
       "False"
      ]
     },
     "execution_count": 46,
     "metadata": {},
     "output_type": "execute_result"
    }
   ],
   "source": [
    "issubclass(Samochod, Samochod_dostawczy)"
   ]
  },
  {
   "cell_type": "code",
   "execution_count": 47,
   "metadata": {},
   "outputs": [
    {
     "data": {
      "text/plain": [
       "True"
      ]
     },
     "execution_count": 47,
     "metadata": {},
     "output_type": "execute_result"
    }
   ],
   "source": [
    "issubclass(Samochod_dostawczy, Samochod)"
   ]
  },
  {
   "cell_type": "code",
   "execution_count": 48,
   "metadata": {},
   "outputs": [],
   "source": [
    "class Samochod_dostawczy(Samochod):\n",
    "    \"\"\"To jest klasa samochod dostawczy\"\"\"\n",
    "    def __init__(self, marka, model, przebieg, moc, ladownosc):\n",
    "        super().__init__(self, marka, model, przebieg, moc)\n",
    "        self.ladownosc = ladownosc       \n",
    "    "
   ]
  },
  {
   "cell_type": "code",
   "execution_count": 63,
   "metadata": {},
   "outputs": [],
   "source": [
    "class Czlowiek:\n",
    "    def __init__(self, masa, energia, nawodnienie):\n",
    "        self.masa = masa\n",
    "        self.energia = energia\n",
    "        self.nawodnienie = nawodnienie\n",
    "    \n",
    "    def jedzenie(self, ile):\n",
    "        self.masa = self.masa + ile\n",
    "        self.nawodnienie = self.nawodnienie - ile\n",
    "        self.energia = self.energia + ile\n",
    "        \n",
    "    def picie(self, ile):\n",
    "        self.masa = self.masa + ile\n",
    "        self.nawodnienie = self.nawodnienie + ile\n",
    "        \n",
    "    def sen(self, ile):\n",
    "        self.energia = self.energia + ile\n",
    "        self.nawodnienie = self.nawodnienie - ile\n",
    "        self.masa = self.masa - ile\n",
    "        \n",
    "    def praca(self, ile):\n",
    "        self.energia = self.energia - ile\n",
    "        self.masa = self.masa - ile\n",
    "        self.nawodnienie = self.nawodnienie - ile\n",
    "        \n",
    "    def czy_jest_ciezki(self):\n",
    "        return bool(self.masa > 50)\n",
    "        \n",
    "    def czy_jest_nawodniony(self):\n",
    "        return bool(self.nawodnienie > 50)\n",
    "        \n",
    "    def czy_ma_energie(self):\n",
    "        return bool(self.energia > 50)    "
   ]
  },
  {
   "cell_type": "code",
   "execution_count": 64,
   "metadata": {},
   "outputs": [],
   "source": [
    "hanna = Czlowiek(60,70,80)"
   ]
  },
  {
   "cell_type": "code",
   "execution_count": 65,
   "metadata": {},
   "outputs": [],
   "source": [
    "hanna.praca(30)"
   ]
  },
  {
   "cell_type": "code",
   "execution_count": 66,
   "metadata": {},
   "outputs": [],
   "source": [
    "hanna.jedzenie(10)"
   ]
  },
  {
   "cell_type": "code",
   "execution_count": 67,
   "metadata": {},
   "outputs": [],
   "source": [
    "hanna.picie(5)"
   ]
  },
  {
   "cell_type": "code",
   "execution_count": 68,
   "metadata": {},
   "outputs": [],
   "source": [
    "hanna.sen(20)"
   ]
  },
  {
   "cell_type": "code",
   "execution_count": 69,
   "metadata": {},
   "outputs": [
    {
     "data": {
      "text/plain": [
       "True"
      ]
     },
     "execution_count": 69,
     "metadata": {},
     "output_type": "execute_result"
    }
   ],
   "source": [
    "hanna.czy_ma_energie()"
   ]
  },
  {
   "cell_type": "code",
   "execution_count": 70,
   "metadata": {},
   "outputs": [
    {
     "data": {
      "text/plain": [
       "False"
      ]
     },
     "execution_count": 70,
     "metadata": {},
     "output_type": "execute_result"
    }
   ],
   "source": [
    "hanna.czy_jest_nawodniony()"
   ]
  },
  {
   "cell_type": "code",
   "execution_count": 71,
   "metadata": {},
   "outputs": [
    {
     "data": {
      "text/plain": [
       "False"
      ]
     },
     "execution_count": 71,
     "metadata": {},
     "output_type": "execute_result"
    }
   ],
   "source": [
    "hanna.czy_jest_ciezki()"
   ]
  },
  {
   "cell_type": "code",
   "execution_count": 130,
   "metadata": {},
   "outputs": [],
   "source": [
    "class Czlowiek_nowoczesny(Czlowiek):\n",
    "    def __init__(self, masa, energia, nawodnienie, fb, gitHub, punkty_StackOverFlow):\n",
    "        super().__init__(masa, energia, nawodnienie)\n",
    "        self.czy_fb = czy_fb\n",
    "        self.czy_gitHub = gitHub\n",
    "        self.punkty_StackOverFlow = punkty_StackOverFlow\n",
    "        \n",
    "    def fb(self, tak_nie):        \n",
    "        if tak_nie == 'tak':\n",
    "            test = True\n",
    "        elif tak_nie == 'nie':\n",
    "            test = False\n",
    "            \n",
    "        print(\"Nasz output {}\".format(self.fb))\n",
    "        self.czy_fb = test\n",
    "        \n",
    "        \n",
    "    def gitHub(self, tak_nie):        \n",
    "        if tak_nie == 'tak':\n",
    "            test = True\n",
    "        elif tak_nie == 'nie':\n",
    "            test = False\n",
    "        self.gitHub = test\n",
    "    \n",
    "    \n",
    "    def programuj(self, ile):\n",
    "        self.punkty_StackOverFlow = self.punkty_StackOverFlow + ile\n",
    "        \n",
    "    @property\n",
    "    def czy_tamagotchi(self):\n",
    "        if self.masa == 0:\n",
    "            test = True\n",
    "        elif self.masa != 0:\n",
    "            test = False\n",
    "        return test\n",
    "    \n",
    "    @property\n",
    "    def czy_aktywny_w_social_media(self):\n",
    "        if self.fb == True and self.gitHub == True :\n",
    "            test = True\n",
    "        else:\n",
    "            test = False\n",
    "        return test\n",
    "    \n",
    "    "
   ]
  },
  {
   "cell_type": "code",
   "execution_count": 131,
   "metadata": {},
   "outputs": [],
   "source": [
    "hanna = Czlowiek(60,70,80)"
   ]
  },
  {
   "cell_type": "code",
   "execution_count": 132,
   "metadata": {},
   "outputs": [],
   "source": [
    "hanna = Czlowiek_nowoczesny(60,70,80,None,None,10)"
   ]
  },
  {
   "cell_type": "code",
   "execution_count": 133,
   "metadata": {},
   "outputs": [],
   "source": [
    "hanna.praca(20)"
   ]
  },
  {
   "cell_type": "code",
   "execution_count": 134,
   "metadata": {},
   "outputs": [],
   "source": [
    "hanna.programuj(30)"
   ]
  },
  {
   "cell_type": "code",
   "execution_count": 135,
   "metadata": {},
   "outputs": [
    {
     "data": {
      "text/plain": [
       "40"
      ]
     },
     "execution_count": 135,
     "metadata": {},
     "output_type": "execute_result"
    }
   ],
   "source": [
    "hanna.punkty_StackOverFlow"
   ]
  },
  {
   "cell_type": "code",
   "execution_count": 136,
   "metadata": {},
   "outputs": [
    {
     "name": "stdout",
     "output_type": "stream",
     "text": [
      "Nasz output <bound method Czlowiek_nowoczesny.fb of <__main__.Czlowiek_nowoczesny object at 0x7f02445b0b00>>\n"
     ]
    }
   ],
   "source": [
    "hanna.fb('tak')"
   ]
  },
  {
   "cell_type": "code",
   "execution_count": 137,
   "metadata": {},
   "outputs": [
    {
     "data": {
      "text/plain": [
       "True"
      ]
     },
     "execution_count": 137,
     "metadata": {},
     "output_type": "execute_result"
    }
   ],
   "source": [
    "hanna.czy_fb"
   ]
  },
  {
   "cell_type": "code",
   "execution_count": null,
   "metadata": {},
   "outputs": [],
   "source": []
  }
 ],
 "metadata": {
  "kernelspec": {
   "display_name": "Python 3",
   "language": "python",
   "name": "python3"
  },
  "language_info": {
   "codemirror_mode": {
    "name": "ipython",
    "version": 3
   },
   "file_extension": ".py",
   "mimetype": "text/x-python",
   "name": "python",
   "nbconvert_exporter": "python",
   "pygments_lexer": "ipython3",
   "version": "3.6.0"
  }
 },
 "nbformat": 4,
 "nbformat_minor": 2
}
