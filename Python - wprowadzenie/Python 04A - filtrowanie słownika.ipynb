{
 "cells": [
  {
   "cell_type": "markdown",
   "metadata": {},
   "source": [
    "# 23.09.2018"
   ]
  },
  {
   "cell_type": "code",
   "execution_count": 1,
   "metadata": {},
   "outputs": [
    {
     "name": "stdout",
     "output_type": "stream",
     "text": [
      "<class 'int'>\n"
     ]
    }
   ],
   "source": [
    "# Map\n",
    "liczby = ['1', '2', '3', '4', '5', '5']\n",
    "\n",
    "przekonwertowane_liczby = list(map(int, liczby))\n",
    "\n",
    "print(type(przekonwertowane_liczby[-1]))"
   ]
  },
  {
   "cell_type": "code",
   "execution_count": 3,
   "metadata": {},
   "outputs": [
    {
     "name": "stdout",
     "output_type": "stream",
     "text": [
      "7\n",
      "Koniec programu\n"
     ]
    }
   ],
   "source": [
    "#Filtry\n",
    "\n",
    "ludzie = ['Maria', 'Antoni', 'Michal', 'Kamil', 'Maja', 'Barbara']\n",
    "\n",
    "funkcja_dlugosci = lambda x: len(x)\n",
    "\n",
    "print(funkcja_dlugosci(ludzie[-1]))\n",
    "print('Koniec programu')"
   ]
  },
  {
   "cell_type": "code",
   "execution_count": 4,
   "metadata": {},
   "outputs": [
    {
     "name": "stdout",
     "output_type": "stream",
     "text": [
      "Barbara\n",
      "Koniec programu\n"
     ]
    }
   ],
   "source": [
    "#Filtry\n",
    "\n",
    "ludzie = ['Maria', 'Antoni', 'Michal', 'Kamil', 'Maja', 'Barbara']\n",
    "\n",
    "\n",
    "print((ludzie[-1])) # [-1] bierze ostatni element z listy\n",
    "print('Koniec programu')"
   ]
  },
  {
   "cell_type": "code",
   "execution_count": 7,
   "metadata": {},
   "outputs": [
    {
     "name": "stdout",
     "output_type": "stream",
     "text": [
      "['Barbara', 'Marzena']\n",
      "Koniec programu\n"
     ]
    }
   ],
   "source": [
    "#Filtry\n",
    "\n",
    "ludzie = ['Maria', 'Antoni', 'Michal', 'Kamil', 'Maja', 'Barbara', 'Marzena']\n",
    "\n",
    "# filtrujemy ludzi, gdzie ostatnia listera jest a oraz długość ciągu jest większa od 5\n",
    "\n",
    "wyniki_filtrowania = []\n",
    "\n",
    "for czlowiek in ludzie:\n",
    "    if czlowiek.endswith('a') and len(czlowiek) > 5:\n",
    "        wyniki_filtrowania.append(czlowiek)\n",
    "        \n",
    "print(wyniki_filtrowania)\n",
    "print('Koniec programu')"
   ]
  },
  {
   "cell_type": "markdown",
   "metadata": {},
   "source": [
    "### Ta funkcja ma robić to samo:"
   ]
  },
  {
   "cell_type": "code",
   "execution_count": 12,
   "metadata": {},
   "outputs": [
    {
     "name": "stdout",
     "output_type": "stream",
     "text": [
      "['Barbara', 'Marzena']\n",
      "Koniec programu\n"
     ]
    }
   ],
   "source": [
    "#Filtry\n",
    "\n",
    "ludzie = ['Maria', 'Antoni', 'Michal', 'Kamil', 'Maja', 'Barbara', 'Marzena']\n",
    "\n",
    "# filtrujemy ludzi, gdzie ostatnia listera jest a oraz długość ciągu jest większa od 5\n",
    "\n",
    "wyniki_filtrowania = list(filter(lambda x: len(x) > 5 and x.endswith('a'), ludzie))\n",
    "\n",
    "        \n",
    "print(wyniki_filtrowania)\n",
    "print('Koniec programu')"
   ]
  },
  {
   "cell_type": "code",
   "execution_count": null,
   "metadata": {},
   "outputs": [],
   "source": []
  }
 ],
 "metadata": {
  "kernelspec": {
   "display_name": "Python 3",
   "language": "python",
   "name": "python3"
  },
  "language_info": {
   "codemirror_mode": {
    "name": "ipython",
    "version": 3
   },
   "file_extension": ".py",
   "mimetype": "text/x-python",
   "name": "python",
   "nbconvert_exporter": "python",
   "pygments_lexer": "ipython3",
   "version": "3.6.0"
  }
 },
 "nbformat": 4,
 "nbformat_minor": 2
}
