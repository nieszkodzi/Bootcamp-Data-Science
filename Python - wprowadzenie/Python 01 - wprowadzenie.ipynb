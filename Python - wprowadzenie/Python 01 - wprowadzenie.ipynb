{
 "cells": [
  {
   "cell_type": "markdown",
   "metadata": {},
   "source": [
    "# Zadania z zajęć numer 1"
   ]
  },
  {
   "cell_type": "markdown",
   "metadata": {},
   "source": [
    "### Napisz program Hello world!"
   ]
  },
  {
   "cell_type": "code",
   "execution_count": 4,
   "metadata": {},
   "outputs": [
    {
     "name": "stdout",
     "output_type": "stream",
     "text": [
      "Hello world\n"
     ]
    }
   ],
   "source": [
    "print('Hello world')"
   ]
  },
  {
   "cell_type": "markdown",
   "metadata": {},
   "source": [
    "###  Napisz Hello world! Gdzie Hello będzie w pierwszej linii World! będzie w linii następnej. Zastanów się czy jest to jedyny możliwy sposób"
   ]
  },
  {
   "cell_type": "code",
   "execution_count": 5,
   "metadata": {},
   "outputs": [
    {
     "name": "stdout",
     "output_type": "stream",
     "text": [
      "Hello\n",
      "World!\n"
     ]
    }
   ],
   "source": [
    "print('Hello')\n",
    "print('World!')"
   ]
  },
  {
   "cell_type": "code",
   "execution_count": 9,
   "metadata": {},
   "outputs": [
    {
     "name": "stdout",
     "output_type": "stream",
     "text": [
      "Hello \n",
      "World!\n"
     ]
    }
   ],
   "source": [
    "print('Hello \\n''World!') #\\n kończy linię w outpucie"
   ]
  },
  {
   "cell_type": "code",
   "execution_count": 10,
   "metadata": {},
   "outputs": [
    {
     "name": "stdout",
     "output_type": "stream",
     "text": [
      "Hello \tWorld!\n"
     ]
    }
   ],
   "source": [
    "print('Hello \\t''World!') #\\t dodaje tabulator"
   ]
  },
  {
   "cell_type": "markdown",
   "metadata": {},
   "source": [
    "### Stwórz zmienną pierwszy_uczestnik, przypisz do niego wartość tekstową „Ania”, drugi_uczestnik, przypisz do niego „Tomek”. Zamień miejscami uczestników. W zmiennej pierwszy_uczestnik powinien być Tomek. W zmiennej drugi_uczestnik powinna być Ania"
   ]
  },
  {
   "cell_type": "code",
   "execution_count": 24,
   "metadata": {},
   "outputs": [
    {
     "name": "stdout",
     "output_type": "stream",
     "text": [
      "Pierwszy uczestnik to Tomek, a drugi uczestnik to Ania.\n"
     ]
    }
   ],
   "source": [
    "pierwszy_uczestnik = 'Ania'\n",
    "drugi_uczestnik = 'Tomek'\n",
    "\n",
    "bucket = pierwszy_uczestnik\n",
    "pierwszy_uczestnik = drugi_uczestnik\n",
    "drugi_uczestnik = bucket\n",
    "\n",
    "print('Pierwszy uczestnik to %s, a drugi uczestnik to %s.' % (pierwszy_uczestnik, drugi_uczestnik))"
   ]
  },
  {
   "cell_type": "markdown",
   "metadata": {},
   "source": [
    "### Stwórz trzeci_uczestnik przypisz imię Wierzchosława"
   ]
  },
  {
   "cell_type": "code",
   "execution_count": 25,
   "metadata": {},
   "outputs": [],
   "source": [
    "trzeci_uczestnik = 'Wierzchoslawa'"
   ]
  },
  {
   "cell_type": "markdown",
   "metadata": {},
   "source": [
    "### Sprawdź długość zmiennych tekstowych"
   ]
  },
  {
   "cell_type": "code",
   "execution_count": 28,
   "metadata": {},
   "outputs": [
    {
     "name": "stdout",
     "output_type": "stream",
     "text": [
      "5\n"
     ]
    }
   ],
   "source": [
    "print(len(pierwszy_uczestnik))"
   ]
  },
  {
   "cell_type": "code",
   "execution_count": 30,
   "metadata": {},
   "outputs": [
    {
     "name": "stdout",
     "output_type": "stream",
     "text": [
      "4\n"
     ]
    }
   ],
   "source": [
    "print(len(drugi_uczestnik))"
   ]
  },
  {
   "cell_type": "code",
   "execution_count": 31,
   "metadata": {},
   "outputs": [
    {
     "name": "stdout",
     "output_type": "stream",
     "text": [
      "13\n"
     ]
    }
   ],
   "source": [
    "print(len(trzeci_uczestnik))"
   ]
  },
  {
   "cell_type": "markdown",
   "metadata": {},
   "source": [
    "### Wylicz średnią długości liter"
   ]
  },
  {
   "cell_type": "code",
   "execution_count": 41,
   "metadata": {},
   "outputs": [
    {
     "name": "stdout",
     "output_type": "stream",
     "text": [
      "7.333333333333333\n"
     ]
    }
   ],
   "source": [
    "srednia = (len(pierwszy_uczestnik) + len(drugi_uczestnik) + len(trzeci_uczestnik))/3\n",
    "print(srednia)"
   ]
  },
  {
   "cell_type": "markdown",
   "metadata": {},
   "source": [
    "### Wylicz medianę długości liter"
   ]
  },
  {
   "cell_type": "code",
   "execution_count": 45,
   "metadata": {},
   "outputs": [
    {
     "name": "stdout",
     "output_type": "stream",
     "text": [
      "5\n"
     ]
    }
   ],
   "source": [
    "import statistics\n",
    "\n",
    "len_1 = len(pierwszy_uczestnik)\n",
    "len_2 = len(drugi_uczestnik)\n",
    "len_3 = len(trzeci_uczestnik)\n",
    "\n",
    "mediana = statistics.median([len_1, len_2, len_3])\n",
    "\n",
    "print(mediana)"
   ]
  },
  {
   "cell_type": "markdown",
   "metadata": {},
   "source": [
    "### Dodaj czwarty_uczestnik przypisz imię Ada"
   ]
  },
  {
   "cell_type": "code",
   "execution_count": 42,
   "metadata": {},
   "outputs": [],
   "source": [
    "czwarty_uczestnik = 'Ada'"
   ]
  },
  {
   "cell_type": "markdown",
   "metadata": {},
   "source": [
    "### Utwórz zmienna imię ze swoim imieniem. Utwórz zmienną wzrost, waga które będą równe Twoim wskazania wzrostu i wagi albo kolegi / koleżanki. Napisz prosty kalkulator BMI. Wypisz na ekranie wartość BMI ze wskazaniem czy poniżej/ w normie / czy powyżej "
   ]
  },
  {
   "cell_type": "code",
   "execution_count": 48,
   "metadata": {},
   "outputs": [
    {
     "name": "stdout",
     "output_type": "stream",
     "text": [
      "W normie.\n"
     ]
    }
   ],
   "source": [
    "imie = 'Natalia'\n",
    "wzrost = 172\n",
    "waga = 68\n",
    "\n",
    "BMI = waga/(wzrost/100)**2\n",
    "\n",
    "if BMI < 18.5 :\n",
    "    print('Poniżej normy.')\n",
    "if 18.5 <= BMI < 25 :\n",
    "    print('W normie.')\n",
    "if BMI >= 25:\n",
    "    print('Powyżej normy.')"
   ]
  },
  {
   "cell_type": "code",
   "execution_count": 54,
   "metadata": {},
   "outputs": [
    {
     "name": "stdout",
     "output_type": "stream",
     "text": [
      "Podaj imie: Dominik\n",
      "Podaj wzrost: 204\n",
      "Podaj wage: 92\n",
      "Dominik Twoja waga jest w normie.\n"
     ]
    }
   ],
   "source": [
    "imie = input(\"Podaj imie: \")\n",
    "wzrost = int(input(\"Podaj wzrost: \"))\n",
    "waga = int(input(\"Podaj wage: \"))\n",
    "\n",
    "BMI = waga/(wzrost/100)**2\n",
    "\n",
    "if BMI < 18.5 :\n",
    "    print('%s Twoja waga jest poniżej normy.' % imie)\n",
    "if 18.5 <= BMI < 25 :\n",
    "    print('%s Twoja waga jest w normie.' % imie)\n",
    "if BMI >= 25:\n",
    "    print('%s Twoja waga jest powyżej normy.' % imie)"
   ]
  },
  {
   "cell_type": "markdown",
   "metadata": {},
   "source": [
    "#### Określ zmienne logiczne czy_pada, czy_tydzien_pracy, czy_bankrut\n",
    "Wiadomo, że człowiekowi jest fajnie wtedy, gdy:\n",
    "Nie pada deszcz/śnieg\n",
    "Jest weekend\n",
    "Nie jest bankrutem\n",
    "Utwórz zmienna czy_fajnie, która mówi czy człowiekowi jest fajnie"
   ]
  },
  {
   "cell_type": "code",
   "execution_count": 3,
   "metadata": {},
   "outputs": [
    {
     "name": "stdout",
     "output_type": "stream",
     "text": [
      "Czy pada? (Tak/Nie): Nie\n",
      "Czy jest środek tygodnia pracy? (Tak/Nie): Tak\n",
      "Czy jesteś bankrutem? (Tak/Nie): Nie\n",
      "Przykro mi. Nie jest zbyt fajnie\n"
     ]
    }
   ],
   "source": [
    "if input(\"Czy pada? (Tak/Nie): \") == 'Tak':\n",
    "    czy_pada = True\n",
    "else:\n",
    "    czy_pada = False\n",
    "\n",
    "if input(\"Czy jest środek tygodnia pracy? (Tak/Nie): \") == 'Tak':\n",
    "    czy_tydzien_pracy = True\n",
    "else:\n",
    "    czy_tydzien_pracy = False\n",
    "\n",
    "if input(\"Czy jesteś bankrutem? (Tak/Nie): \") == 'Tak':\n",
    "    czy_bankrut = True\n",
    "else:\n",
    "    czy_bankrut = False\n",
    "    \n",
    "if czy_pada == False and czy_tydzien_pracy == False and czy_bankrut == False:\n",
    "    czy_fajnie = True\n",
    "    print('Jest fajnie')\n",
    "else:\n",
    "    czy_fajnie = False\n",
    "    print('Przykro mi. Nie jest zbyt fajnie')\n",
    "    "
   ]
  },
  {
   "cell_type": "markdown",
   "metadata": {},
   "source": [
    "* Do zmiennej lista_kwadrat przypisz kwadrat liczb od 1 do 12\n",
    "* Do zmiennej lista_kwadrat2 przypisz kwadrat liczb podzielnych przez 3 od 1 do 30\n",
    "* Wyświetl lista_kwadrat i lista_kwadrat2"
   ]
  },
  {
   "cell_type": "code",
   "execution_count": 10,
   "metadata": {},
   "outputs": [
    {
     "name": "stdout",
     "output_type": "stream",
     "text": [
      "[1, 4, 9, 16, 25, 36, 49, 64, 81, 100, 121]\n",
      "[9, 36, 81, 144, 225, 324, 441, 576, 729]\n"
     ]
    }
   ],
   "source": [
    "lista_kwadrat = []\n",
    "\n",
    "for i in range(1,12):\n",
    "    lista_kwadrat.append((i)**2) #list.append(element) dodaje element na koniec listy\n",
    "    \n",
    "lista_kwadrat2 = []\n",
    "\n",
    "for i in range(1,30):\n",
    "    if i % 3 == 0:\n",
    "        lista_kwadrat2.append(i**2)\n",
    "    \n",
    "print(lista_kwadrat)\n",
    "print(lista_kwadrat2)\n",
    "    "
   ]
  },
  {
   "cell_type": "markdown",
   "metadata": {},
   "source": [
    "* Napisz funkcję, która wyświetli oraz zwróci Twoje imię\n",
    "* Uruchom funkcję i przyrównaj wartość do None"
   ]
  },
  {
   "cell_type": "code",
   "execution_count": 35,
   "metadata": {},
   "outputs": [],
   "source": [
    "class Osoba:\n",
    "    def __init__(self, imie):\n",
    "        self.imie = imie\n",
    "    \n",
    "    def zwroc_imie(self):\n",
    "        return(self.imie)"
   ]
  },
  {
   "cell_type": "code",
   "execution_count": 36,
   "metadata": {},
   "outputs": [],
   "source": [
    "osoba1 = Osoba('Natalia')"
   ]
  },
  {
   "cell_type": "code",
   "execution_count": 37,
   "metadata": {},
   "outputs": [
    {
     "data": {
      "text/plain": [
       "'Natalia'"
      ]
     },
     "execution_count": 37,
     "metadata": {},
     "output_type": "execute_result"
    }
   ],
   "source": [
    "osoba1.imie"
   ]
  },
  {
   "cell_type": "code",
   "execution_count": 38,
   "metadata": {},
   "outputs": [
    {
     "data": {
      "text/plain": [
       "'Natalia'"
      ]
     },
     "execution_count": 38,
     "metadata": {},
     "output_type": "execute_result"
    }
   ],
   "source": [
    "osoba1.zwroc_imie()"
   ]
  },
  {
   "cell_type": "code",
   "execution_count": null,
   "metadata": {},
   "outputs": [],
   "source": []
  }
 ],
 "metadata": {
  "kernelspec": {
   "display_name": "Python 3",
   "language": "python",
   "name": "python3"
  },
  "language_info": {
   "codemirror_mode": {
    "name": "ipython",
    "version": 3
   },
   "file_extension": ".py",
   "mimetype": "text/x-python",
   "name": "python",
   "nbconvert_exporter": "python",
   "pygments_lexer": "ipython3",
   "version": "3.6.0"
  }
 },
 "nbformat": 4,
 "nbformat_minor": 2
}
