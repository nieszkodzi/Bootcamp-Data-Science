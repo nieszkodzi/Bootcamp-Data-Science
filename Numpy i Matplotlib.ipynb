{
 "cells": [
  {
   "cell_type": "code",
   "execution_count": 2,
   "metadata": {},
   "outputs": [],
   "source": [
    "import numpy as np\n",
    "import matplotlib\n",
    "import matplotlib.pyplot as plt\n",
    "%matplotlib inline"
   ]
  },
  {
   "cell_type": "markdown",
   "metadata": {},
   "source": [
    "# Mój pierwszy wektor"
   ]
  },
  {
   "cell_type": "code",
   "execution_count": 3,
   "metadata": {},
   "outputs": [],
   "source": [
    "x = np.array([1,2,3,4,5])"
   ]
  },
  {
   "cell_type": "code",
   "execution_count": 4,
   "metadata": {},
   "outputs": [
    {
     "data": {
      "text/plain": [
       "1"
      ]
     },
     "execution_count": 4,
     "metadata": {},
     "output_type": "execute_result"
    }
   ],
   "source": [
    "x.ndim # lista wymiarów"
   ]
  },
  {
   "cell_type": "code",
   "execution_count": 5,
   "metadata": {},
   "outputs": [
    {
     "data": {
      "text/plain": [
       "(5,)"
      ]
     },
     "execution_count": 5,
     "metadata": {},
     "output_type": "execute_result"
    }
   ],
   "source": [
    "x.shape"
   ]
  },
  {
   "cell_type": "code",
   "execution_count": 6,
   "metadata": {},
   "outputs": [
    {
     "data": {
      "text/plain": [
       "array([3, 1, 5, 0])"
      ]
     },
     "execution_count": 6,
     "metadata": {},
     "output_type": "execute_result"
    }
   ],
   "source": [
    "np.array([3, True, 5, False])"
   ]
  },
  {
   "cell_type": "code",
   "execution_count": 7,
   "metadata": {},
   "outputs": [
    {
     "data": {
      "text/plain": [
       "array([[ 0.03841304,  0.21642769, -1.55712361],\n",
       "       [ 2.50806194, -1.64350557,  3.06815246]])"
      ]
     },
     "execution_count": 7,
     "metadata": {},
     "output_type": "execute_result"
    }
   ],
   "source": [
    "np.random.uniform(-4,4,(2,3))"
   ]
  },
  {
   "cell_type": "code",
   "execution_count": 8,
   "metadata": {},
   "outputs": [
    {
     "data": {
      "text/plain": [
       "array([[-0.03887984,  0.01282761, -0.03086895],\n",
       "       [-0.00770423,  0.00914878, -0.11506276]])"
      ]
     },
     "execution_count": 8,
     "metadata": {},
     "output_type": "execute_result"
    }
   ],
   "source": [
    "np.random.normal(0,0.1,(2,3))"
   ]
  },
  {
   "cell_type": "code",
   "execution_count": 9,
   "metadata": {},
   "outputs": [],
   "source": [
    "x = np.array([1,2,3])\n",
    "y = np.array([3,4,5])"
   ]
  },
  {
   "cell_type": "code",
   "execution_count": 10,
   "metadata": {},
   "outputs": [
    {
     "data": {
      "text/plain": [
       "array([ True,  True,  True])"
      ]
     },
     "execution_count": 10,
     "metadata": {},
     "output_type": "execute_result"
    }
   ],
   "source": [
    "x <= y"
   ]
  },
  {
   "cell_type": "code",
   "execution_count": 11,
   "metadata": {},
   "outputs": [
    {
     "data": {
      "text/plain": [
       "array([False, False,  True])"
      ]
     },
     "execution_count": 11,
     "metadata": {},
     "output_type": "execute_result"
    }
   ],
   "source": [
    "(x > 2) & (x < 5)"
   ]
  },
  {
   "cell_type": "code",
   "execution_count": 12,
   "metadata": {},
   "outputs": [
    {
     "data": {
      "text/plain": [
       "array([ True,  True,  True])"
      ]
     },
     "execution_count": 12,
     "metadata": {},
     "output_type": "execute_result"
    }
   ],
   "source": [
    "(x > 2) | (x < 5)"
   ]
  },
  {
   "cell_type": "markdown",
   "metadata": {},
   "source": [
    "# Zadania z Numpy"
   ]
  },
  {
   "cell_type": "code",
   "execution_count": 13,
   "metadata": {},
   "outputs": [],
   "source": [
    "np.random.seed(123)\n",
    "x = np.random.uniform(-4,4,30)"
   ]
  },
  {
   "cell_type": "code",
   "execution_count": 14,
   "metadata": {},
   "outputs": [
    {
     "data": {
      "text/plain": [
       "array([ 1.57175348, -1.71088532, -2.18518837,  0.41051815,  1.75575176,\n",
       "       -0.61514832,  3.84611359,  1.47863791, -0.15254479, -0.86305985,\n",
       "       -1.25457587,  1.83239766, -0.49142204, -3.52257683, -0.81564596,\n",
       "        1.90396325, -2.54006616, -2.59638595,  0.25241099,  0.2546207 ,\n",
       "        1.07520767,  2.79545435,  1.7956426 ,  0.88818809,  1.77954706,\n",
       "       -1.41632869, -1.10569076, -2.17389415, -1.65028763,  1.04780899])"
      ]
     },
     "execution_count": 14,
     "metadata": {},
     "output_type": "execute_result"
    }
   ],
   "source": [
    "x"
   ]
  },
  {
   "cell_type": "code",
   "execution_count": 15,
   "metadata": {},
   "outputs": [
    {
     "data": {
      "text/plain": [
       "array([ 1.57175348, -1.71088532,  1.75575176,  1.47863791, -1.25457587,\n",
       "        1.83239766,  1.90396325,  1.07520767,  1.7956426 ,  1.77954706,\n",
       "       -1.41632869, -1.10569076, -1.65028763,  1.04780899])"
      ]
     },
     "execution_count": 15,
     "metadata": {},
     "output_type": "execute_result"
    }
   ],
   "source": [
    "x[((x >= -2) & (x <= -1)) | ((x >= 1) & (x <= 2))]"
   ]
  },
  {
   "cell_type": "code",
   "execution_count": 16,
   "metadata": {},
   "outputs": [
    {
     "data": {
      "text/plain": [
       "array([-1.71088532, -1.25457587, -1.41632869, -1.10569076, -1.65028763,\n",
       "        1.57175348,  1.75575176,  1.47863791,  1.83239766,  1.90396325,\n",
       "        1.07520767,  1.7956426 ,  1.77954706,  1.04780899])"
      ]
     },
     "execution_count": 16,
     "metadata": {},
     "output_type": "execute_result"
    }
   ],
   "source": [
    "np.r_[x[(x >= -2) & (x <= -1)] , x[(x >= 1) & (x <= 2)]] \n",
    "# najpierw wyznacza wektor wartości ujemnych, potem dodatnich i skleja je"
   ]
  },
  {
   "cell_type": "markdown",
   "metadata": {},
   "source": [
    "## Poniżej trzy sposoby na wypisanie ilości elementów nieujemnych"
   ]
  },
  {
   "cell_type": "code",
   "execution_count": 17,
   "metadata": {},
   "outputs": [
    {
     "data": {
      "text/plain": [
       "15"
      ]
     },
     "execution_count": 17,
     "metadata": {},
     "output_type": "execute_result"
    }
   ],
   "source": [
    "np.size(x[x >= 0])"
   ]
  },
  {
   "cell_type": "code",
   "execution_count": 18,
   "metadata": {},
   "outputs": [
    {
     "data": {
      "text/plain": [
       "15"
      ]
     },
     "execution_count": 18,
     "metadata": {},
     "output_type": "execute_result"
    }
   ],
   "source": [
    "len(x[x >= 0])"
   ]
  },
  {
   "cell_type": "code",
   "execution_count": 19,
   "metadata": {},
   "outputs": [
    {
     "data": {
      "text/plain": [
       "15"
      ]
     },
     "execution_count": 19,
     "metadata": {},
     "output_type": "execute_result"
    }
   ],
   "source": [
    "np.sum(x >= 0)"
   ]
  },
  {
   "cell_type": "markdown",
   "metadata": {},
   "source": [
    "## Średnia wartości bezwzględnych wszystkich elementów"
   ]
  },
  {
   "cell_type": "code",
   "execution_count": 20,
   "metadata": {},
   "outputs": [
    {
     "data": {
      "text/plain": [
       "1.5260572308400788"
      ]
     },
     "execution_count": 20,
     "metadata": {},
     "output_type": "execute_result"
    }
   ],
   "source": [
    "np.mean(np.abs(x))"
   ]
  },
  {
   "cell_type": "code",
   "execution_count": 21,
   "metadata": {},
   "outputs": [
    {
     "data": {
      "text/plain": [
       "1.5260572308400788"
      ]
     },
     "execution_count": 21,
     "metadata": {},
     "output_type": "execute_result"
    }
   ],
   "source": [
    "np.sum(np.abs(x))/x.size \n",
    "# zwykłą średnia liczona jako suma przez liczbę elementów"
   ]
  },
  {
   "cell_type": "markdown",
   "metadata": {},
   "source": [
    "## Najmniejsza i największa wartość"
   ]
  },
  {
   "cell_type": "code",
   "execution_count": 22,
   "metadata": {},
   "outputs": [
    {
     "data": {
      "text/plain": [
       "3.846113587076924"
      ]
     },
     "execution_count": 22,
     "metadata": {},
     "output_type": "execute_result"
    }
   ],
   "source": [
    "np.max(x)"
   ]
  },
  {
   "cell_type": "code",
   "execution_count": 23,
   "metadata": {},
   "outputs": [
    {
     "data": {
      "text/plain": [
       "-3.522576827123453"
      ]
     },
     "execution_count": 23,
     "metadata": {},
     "output_type": "execute_result"
    }
   ],
   "source": [
    "np.min(x)"
   ]
  },
  {
   "cell_type": "markdown",
   "metadata": {},
   "source": [
    "## Wypisz część ułamkową wszystkich elementów"
   ]
  },
  {
   "cell_type": "code",
   "execution_count": 24,
   "metadata": {},
   "outputs": [
    {
     "data": {
      "text/plain": [
       "array([ 0.57175348, -0.71088532, -0.18518837,  0.41051815,  0.75575176,\n",
       "       -0.61514832,  0.84611359,  0.47863791, -0.15254479, -0.86305985,\n",
       "       -0.25457587,  0.83239766, -0.49142204, -0.52257683, -0.81564596,\n",
       "        0.90396325, -0.54006616, -0.59638595,  0.25241099,  0.2546207 ,\n",
       "        0.07520767,  0.79545435,  0.7956426 ,  0.88818809,  0.77954706,\n",
       "       -0.41632869, -0.10569076, -0.17389415, -0.65028763,  0.04780899])"
      ]
     },
     "execution_count": 24,
     "metadata": {},
     "output_type": "execute_result"
    }
   ],
   "source": [
    "x-x.astype(int)"
   ]
  },
  {
   "cell_type": "code",
   "execution_count": 25,
   "metadata": {},
   "outputs": [
    {
     "data": {
      "text/plain": [
       "(array([ 0.57175348, -0.71088532, -0.18518837,  0.41051815,  0.75575176,\n",
       "        -0.61514832,  0.84611359,  0.47863791, -0.15254479, -0.86305985,\n",
       "        -0.25457587,  0.83239766, -0.49142204, -0.52257683, -0.81564596,\n",
       "         0.90396325, -0.54006616, -0.59638595,  0.25241099,  0.2546207 ,\n",
       "         0.07520767,  0.79545435,  0.7956426 ,  0.88818809,  0.77954706,\n",
       "        -0.41632869, -0.10569076, -0.17389415, -0.65028763,  0.04780899]),\n",
       " array([ 1., -1., -2.,  0.,  1., -0.,  3.,  1., -0., -0., -1.,  1., -0.,\n",
       "        -3., -0.,  1., -2., -2.,  0.,  0.,  1.,  2.,  1.,  0.,  1., -1.,\n",
       "        -1., -2., -1.,  1.]))"
      ]
     },
     "execution_count": 25,
     "metadata": {},
     "output_type": "execute_result"
    }
   ],
   "source": [
    "np.modf(x)"
   ]
  },
  {
   "cell_type": "code",
   "execution_count": 26,
   "metadata": {},
   "outputs": [
    {
     "data": {
      "text/plain": [
       "array([ 0.57175348, -0.71088532, -0.18518837,  0.41051815,  0.75575176,\n",
       "       -0.61514832,  0.84611359,  0.47863791, -0.15254479, -0.86305985,\n",
       "       -0.25457587,  0.83239766, -0.49142204, -0.52257683, -0.81564596,\n",
       "        0.90396325, -0.54006616, -0.59638595,  0.25241099,  0.2546207 ,\n",
       "        0.07520767,  0.79545435,  0.7956426 ,  0.88818809,  0.77954706,\n",
       "       -0.41632869, -0.10569076, -0.17389415, -0.65028763,  0.04780899])"
      ]
     },
     "execution_count": 26,
     "metadata": {},
     "output_type": "execute_result"
    }
   ],
   "source": [
    "np.modf(x)[0]"
   ]
  },
  {
   "cell_type": "markdown",
   "metadata": {},
   "source": [
    "## Wyznacz wartość najbliższą i najdalszą od 0"
   ]
  },
  {
   "cell_type": "code",
   "execution_count": 27,
   "metadata": {},
   "outputs": [
    {
     "data": {
      "text/plain": [
       "3.846113587076924"
      ]
     },
     "execution_count": 27,
     "metadata": {},
     "output_type": "execute_result"
    }
   ],
   "source": [
    "x[np.argmax(np.abs(x-0))]"
   ]
  },
  {
   "cell_type": "code",
   "execution_count": 28,
   "metadata": {},
   "outputs": [
    {
     "data": {
      "text/plain": [
       "-0.15254478812511252"
      ]
     },
     "execution_count": 28,
     "metadata": {},
     "output_type": "execute_result"
    }
   ],
   "source": [
    "x[np.argmin(np.abs(x-0))]"
   ]
  },
  {
   "cell_type": "markdown",
   "metadata": {},
   "source": [
    "## Wyznacz wartość najbliższą i najdalszą od 2, dwie wersje"
   ]
  },
  {
   "cell_type": "code",
   "execution_count": 29,
   "metadata": {},
   "outputs": [
    {
     "data": {
      "text/plain": [
       "1.9039632458562856"
      ]
     },
     "execution_count": 29,
     "metadata": {},
     "output_type": "execute_result"
    }
   ],
   "source": [
    "x[np.argmin(np.abs(x-2))]"
   ]
  },
  {
   "cell_type": "code",
   "execution_count": 30,
   "metadata": {},
   "outputs": [
    {
     "data": {
      "text/plain": [
       "-3.522576827123453"
      ]
     },
     "execution_count": 30,
     "metadata": {},
     "output_type": "execute_result"
    }
   ],
   "source": [
    "x[np.argmax(np.abs(x-2))]"
   ]
  },
  {
   "cell_type": "code",
   "execution_count": 31,
   "metadata": {},
   "outputs": [
    {
     "data": {
      "text/plain": [
       "array([1.90396325])"
      ]
     },
     "execution_count": 31,
     "metadata": {},
     "output_type": "execute_result"
    }
   ],
   "source": [
    "x[np.abs(x-2)==np.min(np.abs(x-2))]"
   ]
  },
  {
   "cell_type": "code",
   "execution_count": 32,
   "metadata": {},
   "outputs": [
    {
     "data": {
      "text/plain": [
       "array([-3.52257683])"
      ]
     },
     "execution_count": 32,
     "metadata": {},
     "output_type": "execute_result"
    }
   ],
   "source": [
    "x[np.abs(x-2)==np.max(np.abs(x-2))]"
   ]
  },
  {
   "cell_type": "code",
   "execution_count": 33,
   "metadata": {},
   "outputs": [
    {
     "data": {
      "text/plain": [
       "array([ 0.38269625, -0.50827314, -0.63700783,  0.06751533,  0.43263682,\n",
       "       -0.21086968,  1.        ,  0.35742295, -0.08531046, -0.2781575 ,\n",
       "       -0.38442224,  0.45343994, -0.17728806, -1.        , -0.26528848,\n",
       "        0.47286418, -0.73332828, -0.74861452,  0.02460209,  0.02520185,\n",
       "        0.24792446,  0.71483149,  0.44346393,  0.19716386,  0.4390953 ,\n",
       "       -0.42832498, -0.34401205, -0.63394237, -0.49182579,  0.24048795])"
      ]
     },
     "execution_count": 33,
     "metadata": {},
     "output_type": "execute_result"
    }
   ],
   "source": [
    "(x - np.min(x))/(np.max(x)-np.min(x))*(1+1)-1"
   ]
  },
  {
   "cell_type": "markdown",
   "metadata": {},
   "source": [
    "## średnią​ ​ wartość​ ​ kwadratów​ ​ liczb​ ​ większych​ ​ od​ ​ 3 ​ ​ lub​ ​ mniejszych​ ​ od​ ​ -2"
   ]
  },
  {
   "cell_type": "code",
   "execution_count": 34,
   "metadata": {},
   "outputs": [
    {
     "data": {
      "text/plain": [
       "8.315859553206058"
      ]
     },
     "execution_count": 34,
     "metadata": {},
     "output_type": "execute_result"
    }
   ],
   "source": [
    "np.mean(x[(x > 3) | (x < -2)]**2)"
   ]
  },
  {
   "cell_type": "markdown",
   "metadata": {},
   "source": [
    "## Utwórz​ ​ wektor​ ​ napisów​ ​ y ​ ​ o ​ ​ długości​ ​ takiej​ ​ samej,​ ​ jaką​ ​ ma​ ​ x,​ ​ dla ktorego​ ​ yi​ ​ przyjmuje​ ​ wartosc​ ​ 'nieujemna',​ ​ jesli​ ​ xi​ ​ jest​ ​ nieujemne​ ​ oraz 'ujemna'​ ​ w ​ ​ przeciwnym​ ​ przypadku,"
   ]
  },
  {
   "cell_type": "code",
   "execution_count": 35,
   "metadata": {},
   "outputs": [],
   "source": [
    "y = np.empty(len(x)).astype(str)"
   ]
  },
  {
   "cell_type": "code",
   "execution_count": 36,
   "metadata": {},
   "outputs": [
    {
     "data": {
      "text/plain": [
       "array(['nieujemna', 'ujemna', 'ujemna', 'nieujemna', 'nieujemna',\n",
       "       'ujemna', 'nieujemna', 'nieujemna', 'ujemna', 'ujemna', 'ujemna',\n",
       "       'nieujemna', 'ujemna', 'ujemna', 'ujemna', 'nieujemna', 'ujemna',\n",
       "       'ujemna', 'nieujemna', 'nieujemna', 'nieujemna', 'nieujemna',\n",
       "       'nieujemna', 'nieujemna', 'nieujemna', 'ujemna', 'ujemna',\n",
       "       'ujemna', 'ujemna', 'nieujemna'], dtype='<U32')"
      ]
     },
     "execution_count": 36,
     "metadata": {},
     "output_type": "execute_result"
    }
   ],
   "source": [
    "y[np.where(x >= 0)] = \"nieujemna\"\n",
    "y[np.where(x < 0)] = \"ujemna\"\n",
    "y"
   ]
  },
  {
   "cell_type": "code",
   "execution_count": 37,
   "metadata": {},
   "outputs": [
    {
     "data": {
      "text/plain": [
       "array(['nieujemna', 'ujemna', 'ujemna', 'nieujemna', 'nieujemna',\n",
       "       'ujemna', 'nieujemna', 'nieujemna', 'ujemna', 'ujemna', 'ujemna',\n",
       "       'nieujemna', 'ujemna', 'ujemna', 'ujemna', 'nieujemna', 'ujemna',\n",
       "       'ujemna', 'nieujemna', 'nieujemna', 'nieujemna', 'nieujemna',\n",
       "       'nieujemna', 'nieujemna', 'nieujemna', 'ujemna', 'ujemna',\n",
       "       'ujemna', 'ujemna', 'nieujemna'], dtype='<U9')"
      ]
     },
     "execution_count": 37,
     "metadata": {},
     "output_type": "execute_result"
    }
   ],
   "source": [
    "np.where(x < 0, \"ujemna\", \"nieujemna\")"
   ]
  },
  {
   "cell_type": "markdown",
   "metadata": {},
   "source": [
    "## Podaj jego​ ​ wariancję​ ​ (nie​ ​ używając​ ​ funkcji​ ​ var​ ​ oraz​ ​ sd)"
   ]
  },
  {
   "cell_type": "code",
   "execution_count": 38,
   "metadata": {},
   "outputs": [
    {
     "data": {
      "text/plain": [
       "3.1556394216123134"
      ]
     },
     "execution_count": 38,
     "metadata": {},
     "output_type": "execute_result"
    }
   ],
   "source": [
    "mean = np.sum(x)/np.size(x)\n",
    "wariancja = (np.sum(x**2)-mean**2)/np.size(x)\n",
    "wariancja"
   ]
  },
  {
   "cell_type": "markdown",
   "metadata": {},
   "source": [
    "## Podaj jego​ ​ minimum​ ​ i ​ ​ maksimum,ale​ ​ nie​ ​ używając​ ​ funkcji​ ​ min​ ​ i ​ ​ max (rozwiązanie​ ​ nie​ ​ musi​ ​ być​ ​ optymalne)"
   ]
  },
  {
   "cell_type": "code",
   "execution_count": 39,
   "metadata": {},
   "outputs": [
    {
     "data": {
      "text/plain": [
       "array([-3.52257683,  3.84611359])"
      ]
     },
     "execution_count": 39,
     "metadata": {},
     "output_type": "execute_result"
    }
   ],
   "source": [
    "np.sort(x)[[0,-1]] #z posortowanych danych wybiera pierwszy i ostatni"
   ]
  },
  {
   "cell_type": "markdown",
   "metadata": {},
   "source": [
    "## Utwórz​ ​ wektor​ ​ liczbowy​ ​ y ​ ​ o ​ ​ długosci​ ​ takiej​ ​ samej,​ ​ jaką​ ​ ma​ ​ x,​ ​ dla którego​ ​ yi​ ​ przyjmuje​ ​ wartość​ ​ k+0.5​ ​ wtedy​ ​ i ​ ​ tylko​ ​ wtedy,​ ​ gdy​ ​ xi​ ​ należy do​ ​ [k,​ ​ k+1),​ ​ gdzie​ ​ k ​ ​ ​ to​ ​ liczba​ ​ całkowita​ ​ (prosty​ ​ histogram)."
   ]
  },
  {
   "cell_type": "code",
   "execution_count": 40,
   "metadata": {},
   "outputs": [
    {
     "data": {
      "text/plain": [
       "array([ 1.57175348, -1.71088532, -2.18518837,  0.41051815,  1.75575176,\n",
       "       -0.61514832,  3.84611359,  1.47863791, -0.15254479, -0.86305985,\n",
       "       -1.25457587,  1.83239766, -0.49142204, -3.52257683, -0.81564596,\n",
       "        1.90396325, -2.54006616, -2.59638595,  0.25241099,  0.2546207 ,\n",
       "        1.07520767,  2.79545435,  1.7956426 ,  0.88818809,  1.77954706,\n",
       "       -1.41632869, -1.10569076, -2.17389415, -1.65028763,  1.04780899])"
      ]
     },
     "execution_count": 40,
     "metadata": {},
     "output_type": "execute_result"
    }
   ],
   "source": [
    "y = x\n",
    "x"
   ]
  },
  {
   "cell_type": "code",
   "execution_count": 41,
   "metadata": {},
   "outputs": [
    {
     "data": {
      "text/plain": [
       "array([ 1.5       , -1.71088532, -2.18518837,  0.41051815,  1.5       ,\n",
       "       -0.61514832,  3.84611359,  1.5       , -0.15254479, -0.86305985,\n",
       "       -1.25457587,  1.5       , -0.49142204, -3.52257683, -0.81564596,\n",
       "        1.5       , -2.54006616, -2.59638595,  0.25241099,  0.2546207 ,\n",
       "        1.5       ,  2.79545435,  1.5       ,  0.88818809,  1.5       ,\n",
       "       -1.41632869, -1.10569076, -2.17389415, -1.65028763,  1.5       ])"
      ]
     },
     "execution_count": 41,
     "metadata": {},
     "output_type": "execute_result"
    }
   ],
   "source": [
    "k = 1\n",
    "y[np.where((x >= k) & (x <= k+1))] = k + 0.5\n",
    "y"
   ]
  },
  {
   "cell_type": "markdown",
   "metadata": {},
   "source": [
    "## Dla​ ​ dwóch​ ​ wektorów​ ​ równej​ ​ długości​ ​ x ​ ​ i ​ ​ y ​ ​ oblicz​ ​ ich​ ​ korelację​"
   ]
  },
  {
   "cell_type": "code",
   "execution_count": 42,
   "metadata": {},
   "outputs": [],
   "source": [
    "def r(x,y):\n",
    "    return np.sum((x-np.mean(x))*(y-np.mean(y)))/((np.sum((x-np.mean(x))**(2)))**(0.5)*(np.sum((y-np.mean(y))**(2)))**(0.5))"
   ]
  },
  {
   "cell_type": "code",
   "execution_count": 43,
   "metadata": {},
   "outputs": [
    {
     "data": {
      "text/plain": [
       "-1.0"
      ]
     },
     "execution_count": 43,
     "metadata": {},
     "output_type": "execute_result"
    }
   ],
   "source": [
    "x = [1,2,3,4,5,6,7,8,9,10]\n",
    "y = [10,9,8,7,6,5,4,3,2,1]\n",
    "r(x,y)"
   ]
  },
  {
   "cell_type": "code",
   "execution_count": 44,
   "metadata": {},
   "outputs": [
    {
     "data": {
      "text/plain": [
       "array([-0.14006872, -0.8617549 , -0.25561937, -2.79858911, -1.7715331 ,\n",
       "       -0.69987723,  0.92746243, -0.17363568,  0.00284592,  0.68822271,\n",
       "       -0.87953634,  0.28362732, -0.80536652, -1.72766949, -0.39089979,\n",
       "        0.57380586,  0.33858905, -0.01183049,  2.39236527,  0.41291216,\n",
       "        0.97873601,  2.23814334, -1.29408532, -1.03878821,  1.74371223,\n",
       "       -0.79806274,  0.02968323,  1.06931597,  0.89070639,  1.75488618,\n",
       "        1.49564414,  1.06939267, -0.77270871,  0.79486267,  0.31427199,\n",
       "       -1.32626546,  1.41729905,  0.80723653,  0.04549008, -0.23309206,\n",
       "       -1.19830114,  0.19952407,  0.46843912, -0.83115498,  1.16220405,\n",
       "       -1.09720305, -2.12310035,  1.03972709, -0.40336604, -0.12602959,\n",
       "       -0.83751672, -1.60596276,  1.25523737, -0.68886898,  1.66095249,\n",
       "        0.80730819, -0.31475815, -1.0859024 , -0.73246199, -1.21252313,\n",
       "        2.08711336,  0.16444123,  1.15020554, -1.26735205,  0.18103513,\n",
       "        1.17786194, -0.33501076,  1.03111446, -1.08456791, -1.36347154,\n",
       "        0.37940061, -0.37917643,  0.64205469, -1.97788793,  0.71226464,\n",
       "        2.59830393, -0.02462598,  0.03414213,  0.17954948, -1.86197571,\n",
       "        0.42614664, -1.60540974, -0.4276796 ,  1.24286955, -0.73521696,\n",
       "        0.50124899,  1.01273905,  0.27874086, -1.37094847, -0.33247528,\n",
       "        1.95941134, -2.02504576, -0.27578601, -0.55210807,  0.12074736,\n",
       "        0.74821562,  1.60869097, -0.27023239,  0.81234133,  0.49974014])"
      ]
     },
     "execution_count": 44,
     "metadata": {},
     "output_type": "execute_result"
    }
   ],
   "source": [
    "x = np.random.normal(size=100)\n",
    "y = 5*x+2\n",
    "x"
   ]
  },
  {
   "cell_type": "code",
   "execution_count": 45,
   "metadata": {},
   "outputs": [
    {
     "data": {
      "text/plain": [
       "0.9999999999999997"
      ]
     },
     "execution_count": 45,
     "metadata": {},
     "output_type": "execute_result"
    }
   ],
   "source": [
    "r(x,y)"
   ]
  },
  {
   "cell_type": "markdown",
   "metadata": {},
   "source": [
    "## Napisz​ ​ funkcję,​ ​ która​ ​ standaryzuje​ ​ wartości​ ​ w ​ ​ zadanym​ ​ wektorze numerycznym,​ ​ tj.​ ​ przeskalowuje​ ​ elementy​ ​ w ​ ​ taki​ ​ sposób,​ ​ że​ ​ ich​ ​ średnia​ ​ jest równa​ ​ 0,​ ​ a ​ ​ odchylenie​ ​ standardowe​ ​ jest​ ​ równe​ ​ 1."
   ]
  },
  {
   "cell_type": "code",
   "execution_count": 46,
   "metadata": {},
   "outputs": [
    {
     "data": {
      "text/plain": [
       "array([-1.23306479,  0.94154423, -0.80667539, -0.7361997 ,  0.53234585,\n",
       "       -1.42591685,  0.53097044,  1.31935487,  0.64212567, -0.26293033,\n",
       "       -0.2704028 ,  0.88532161,  0.18013084, -1.51956797,  0.24033895,\n",
       "        1.06120947, -0.62802212,  1.45978832,  0.83448282,  0.20990708,\n",
       "        0.83776028, -1.53991609,  1.21870428,  1.08475804,  1.39719073,\n",
       "       -1.36496648, -1.53061347, -1.3303728 , -0.40771038, -0.3195743 ])"
      ]
     },
     "execution_count": 46,
     "metadata": {},
     "output_type": "execute_result"
    }
   ],
   "source": [
    "x = np.random.uniform(size=30)\n",
    "x = (x - np.mean(x))/(np.std(x))\n",
    "x"
   ]
  },
  {
   "cell_type": "code",
   "execution_count": 47,
   "metadata": {},
   "outputs": [
    {
     "data": {
      "text/plain": [
       "1.6653345369377348e-16"
      ]
     },
     "execution_count": 47,
     "metadata": {},
     "output_type": "execute_result"
    }
   ],
   "source": [
    "np.mean(x) #średnia musi być bliska 0"
   ]
  },
  {
   "cell_type": "code",
   "execution_count": 48,
   "metadata": {},
   "outputs": [
    {
     "data": {
      "text/plain": [
       "1.0"
      ]
     },
     "execution_count": 48,
     "metadata": {},
     "output_type": "execute_result"
    }
   ],
   "source": [
    "np.std(x) #odchylenie standardowe bliskie 1"
   ]
  },
  {
   "cell_type": "markdown",
   "metadata": {},
   "source": [
    "## Oblicz​ ​ iloczyn​ ​ skalarny​ ​ dwóch​ ​ wektorów​ ​ (suma​ ​ iloczynów​ ​ ich współrzędnych)"
   ]
  },
  {
   "cell_type": "code",
   "execution_count": 49,
   "metadata": {},
   "outputs": [],
   "source": [
    "def il_skalarny(x,y):\n",
    "    return np.sum(x*y)"
   ]
  },
  {
   "cell_type": "code",
   "execution_count": 50,
   "metadata": {},
   "outputs": [
    {
     "data": {
      "text/plain": [
       "array([0.56221838, 0.12224355, 0.2013995 , 0.81164435, 0.46798757])"
      ]
     },
     "execution_count": 50,
     "metadata": {},
     "output_type": "execute_result"
    }
   ],
   "source": [
    "x = np.random.uniform(size=5)\n",
    "x"
   ]
  },
  {
   "cell_type": "code",
   "execution_count": 51,
   "metadata": {},
   "outputs": [
    {
     "data": {
      "text/plain": [
       "array([0.80793821, 0.00742638, 0.55159273, 0.93193215, 0.58217546])"
      ]
     },
     "execution_count": 51,
     "metadata": {},
     "output_type": "execute_result"
    }
   ],
   "source": [
    "y = np.random.uniform(size=5)\n",
    "y"
   ]
  },
  {
   "cell_type": "code",
   "execution_count": 52,
   "metadata": {},
   "outputs": [
    {
     "data": {
      "text/plain": [
       "1.5950843788749554"
      ]
     },
     "execution_count": 52,
     "metadata": {},
     "output_type": "execute_result"
    }
   ],
   "source": [
    "il_skalarny(x,y)"
   ]
  },
  {
   "cell_type": "code",
   "execution_count": 53,
   "metadata": {},
   "outputs": [
    {
     "data": {
      "text/plain": [
       "3210"
      ]
     },
     "execution_count": 53,
     "metadata": {},
     "output_type": "execute_result"
    }
   ],
   "source": [
    "x = np.array([1,2,3])\n",
    "y = np.array([10,100,1000])\n",
    "il_skalarny(x,y)"
   ]
  },
  {
   "cell_type": "code",
   "execution_count": 54,
   "metadata": {},
   "outputs": [
    {
     "data": {
      "text/plain": [
       "3210"
      ]
     },
     "execution_count": 54,
     "metadata": {},
     "output_type": "execute_result"
    }
   ],
   "source": [
    "np.dot(x,y) # funkcja robiąca dot produnct, czyli dokładnie iloczyn skalarny"
   ]
  },
  {
   "cell_type": "code",
   "execution_count": 55,
   "metadata": {},
   "outputs": [
    {
     "data": {
      "text/plain": [
       "3210"
      ]
     },
     "execution_count": 55,
     "metadata": {},
     "output_type": "execute_result"
    }
   ],
   "source": [
    "np.matmul(x,y) \n",
    "# mnożenie macierzy, w przypadku obiektów dwuwmiarowych trzeba\n",
    "# transponować jedną z macierzy, żeby móc mnożeć"
   ]
  },
  {
   "cell_type": "markdown",
   "metadata": {},
   "source": [
    "## Oblicz​ ​ root-mean-squared-error​ ​ pomiędzy​ ​ dwoma​ ​ wektorami"
   ]
  },
  {
   "cell_type": "code",
   "execution_count": 56,
   "metadata": {},
   "outputs": [],
   "source": [
    "np.random.seed(123)\n",
    "x = np.random.normal(size=100)\n",
    "y = x+2"
   ]
  },
  {
   "cell_type": "code",
   "execution_count": 57,
   "metadata": {},
   "outputs": [
    {
     "data": {
      "text/plain": [
       "2.0"
      ]
     },
     "execution_count": 57,
     "metadata": {},
     "output_type": "execute_result"
    }
   ],
   "source": [
    "def rmse(x,y):\n",
    "    return np.sqrt(np.sum((y-x)**2)/np.size(x))\n",
    "rmse(x,y)"
   ]
  },
  {
   "cell_type": "markdown",
   "metadata": {},
   "source": [
    "## Oblicz​ ​ mean-absolute-error​ ​ pomiędzy​ ​ dwoma​ ​ wektorami"
   ]
  },
  {
   "cell_type": "code",
   "execution_count": 58,
   "metadata": {},
   "outputs": [
    {
     "data": {
      "text/plain": [
       "2.0"
      ]
     },
     "execution_count": 58,
     "metadata": {},
     "output_type": "execute_result"
    }
   ],
   "source": [
    "def mae(x,y):\n",
    "    return np.sum(np.abs(y-x))/np.size(x)\n",
    "mae(x,y)"
   ]
  },
  {
   "cell_type": "markdown",
   "metadata": {},
   "source": [
    "## Oblicz​ ​ median-absolute-error​ ​ pomiędzy​ ​ dwoma​ ​ wektorami"
   ]
  },
  {
   "cell_type": "code",
   "execution_count": 59,
   "metadata": {},
   "outputs": [
    {
     "data": {
      "text/plain": [
       "2.0"
      ]
     },
     "execution_count": 59,
     "metadata": {},
     "output_type": "execute_result"
    }
   ],
   "source": [
    "def MedAE(x,y):\n",
    "    return np.median(np.abs(y-x))\n",
    "MedAE(x,y)"
   ]
  },
  {
   "cell_type": "markdown",
   "metadata": {},
   "source": [
    "## Oblicz​ ​ znormalizowany​ ​ dystans​ ​ Hamminga​ ​ pomiędzy​ ​ dwoma wektorami​ ​ liczb​ ​ całkowitych,​ ​ x ​ ​ i ​ ​ y ​ ​ (o​ ​ równej​ ​ długości​ ​ n).​ ​ Najpierw​ ​ policz,​ ​ na ilu​ ​ współrzędnych​ ​ wektory​ ​ x ​ ​ i ​ ​ y ​ ​ się​ ​ różnią.​ ​ Następnie​ ​ podziel​ ​ tę​ ​ liczbę​ ​ przez długość​ ​ n."
   ]
  },
  {
   "cell_type": "code",
   "execution_count": 60,
   "metadata": {},
   "outputs": [],
   "source": [
    "def dys_hamminga(x,y):\n",
    "    return np.size(x != y)/np.size(x)"
   ]
  },
  {
   "cell_type": "code",
   "execution_count": 61,
   "metadata": {},
   "outputs": [
    {
     "data": {
      "text/plain": [
       "1.0"
      ]
     },
     "execution_count": 61,
     "metadata": {},
     "output_type": "execute_result"
    }
   ],
   "source": [
    "dys_hamminga(x,y)"
   ]
  },
  {
   "cell_type": "markdown",
   "metadata": {},
   "source": [
    "## Oblicz​ ​ wartość​ ​ cross-entropy​ ​ loss​ ​ pomiędzy​ ​ wektorem​ ​ y ​ ​ (liczby​ ​ 0 ​ ​ albo 1)oraz​ ​ ŷ ​ ​ (wartości​ ​ rzeczywiste​ ​ pomiędzy​ ​ 0 ​ ​ a ​ ​ 1)"
   ]
  },
  {
   "cell_type": "code",
   "execution_count": 62,
   "metadata": {},
   "outputs": [],
   "source": [
    "y = np.random.randint(0,2,10)\n",
    "y1 = np.random.uniform(0,1,10)"
   ]
  },
  {
   "cell_type": "code",
   "execution_count": 63,
   "metadata": {},
   "outputs": [
    {
     "data": {
      "text/plain": [
       "array([0.98834542, 0.90534158, 0.20763586, 0.29248941, 0.52001015,\n",
       "       0.90191137, 0.98363088, 0.25754206, 0.56435904, 0.80696868])"
      ]
     },
     "execution_count": 63,
     "metadata": {},
     "output_type": "execute_result"
    }
   ],
   "source": [
    "y1"
   ]
  },
  {
   "cell_type": "code",
   "execution_count": 64,
   "metadata": {},
   "outputs": [
    {
     "data": {
      "text/plain": [
       "array([-0.33739216, -0.33739216, -0.33739216, -0.37199243, -0.4107912 ,\n",
       "       -0.33739216, -0.33739216, -0.33739216, -0.42048585, -0.33739216])"
      ]
     },
     "execution_count": 64,
     "metadata": {},
     "output_type": "execute_result"
    }
   ],
   "source": [
    "def crossentropy(y,y1):\n",
    "    return (np.sum(y * np.log(y1))+(1 - y) * np.log(1 - y1))/np.size(y)\n",
    "\n",
    "crossentropy(y,y1)"
   ]
  },
  {
   "cell_type": "markdown",
   "metadata": {},
   "source": [
    "## Zaimplementuj​ ​ funkcje​ ​ lead(x,​ ​ n)​ ​ oraz​ ​ lag(x,​ ​ n).​ ​ Pierwsza​ ​ pozbywa​ ​ się pierwszych​ ​ n ​ ​ wartości,​ ​ a ​ ​ następnie​ ​ dodaje​ ​ na​ ​ koniec​ ​ n ​ ​ wartości brakujących.​ ​ Przykładowo​ ​ lead([1,2,3,4,5],2)​ ​ ==​ ​ [3,4,5,NaN,​ ​ NaN].​ ​ Druga działa​ ​ analogicznie:​ ​ lag([1,2,3,4,5],2)​ ​ ==​ ​ [NaN,​ ​ NaN,​ ​ 1,2,3]."
   ]
  },
  {
   "cell_type": "code",
   "execution_count": 65,
   "metadata": {},
   "outputs": [
    {
     "data": {
      "text/plain": [
       "nan"
      ]
     },
     "execution_count": 65,
     "metadata": {},
     "output_type": "execute_result"
    }
   ],
   "source": [
    "x = np.array([1,2,3,4,5])\n",
    "n = 2\n",
    "np.NaN"
   ]
  },
  {
   "cell_type": "code",
   "execution_count": 66,
   "metadata": {},
   "outputs": [],
   "source": [
    "def lead(x,n):\n",
    "    temp = x[n:]\n",
    "    nany = np.repeat(np.NaN,n)\n",
    "    return np.insert(nany, 0, temp)\n",
    "\n",
    "\n",
    "def lag(x,n):\n",
    "    temp = x[:(x.size-n)]\n",
    "    nany = np.repeat(np.NaN,n)\n",
    "    temp = np.insert(nany, nany.size, temp)\n",
    "    return temp"
   ]
  },
  {
   "cell_type": "code",
   "execution_count": 67,
   "metadata": {},
   "outputs": [
    {
     "data": {
      "text/plain": [
       "array([ 3.,  4.,  5., nan, nan])"
      ]
     },
     "execution_count": 67,
     "metadata": {},
     "output_type": "execute_result"
    }
   ],
   "source": [
    "lead(x,2)"
   ]
  },
  {
   "cell_type": "code",
   "execution_count": 68,
   "metadata": {},
   "outputs": [
    {
     "data": {
      "text/plain": [
       "array([nan, nan,  1.,  2.,  3.])"
      ]
     },
     "execution_count": 68,
     "metadata": {},
     "output_type": "execute_result"
    }
   ],
   "source": [
    "lag(x,2)"
   ]
  },
  {
   "cell_type": "markdown",
   "metadata": {},
   "source": [
    "## Zaimplementuj cumall() i cumany(), czyli skumulowane wersje all() i any(). Tak więc, przykładowo, cumall([True, True, True, False, True, False]) == [True, True, True, False, False, False], podczas gdy cumany([False, False, True, False, True]) == [False, False, True, True, True]."
   ]
  },
  {
   "cell_type": "code",
   "execution_count": 69,
   "metadata": {},
   "outputs": [
    {
     "data": {
      "text/plain": [
       "array([ True,  True,  True,  True,  True,  True])"
      ]
     },
     "execution_count": 69,
     "metadata": {},
     "output_type": "execute_result"
    }
   ],
   "source": [
    "def cumall(x):\n",
    "    if np.all(x):\n",
    "        return x.copy()\n",
    "    y = x.copy()\n",
    "    np.place(y, np.arange(y.size) >= np.where(y == False)[0][0], False)\n",
    "    return y\n",
    "x = np.array([True, True, True, True, True, True])\n",
    "cumall(x)"
   ]
  },
  {
   "cell_type": "code",
   "execution_count": 70,
   "metadata": {},
   "outputs": [
    {
     "data": {
      "text/plain": [
       "[True, True, True, True, True, True]"
      ]
     },
     "execution_count": 70,
     "metadata": {},
     "output_type": "execute_result"
    }
   ],
   "source": [
    "def cumall(x):\n",
    "    ret = []\n",
    "    for idx, val in enumerate(x):\n",
    "        ret.append(np.all(x[:idx+1]))\n",
    "    return ret\n",
    "x = np.array([True, True, True, True, True, True])\n",
    "cumall(x)"
   ]
  },
  {
   "cell_type": "code",
   "execution_count": 71,
   "metadata": {},
   "outputs": [
    {
     "data": {
      "text/plain": [
       "array([False,  True,  True,  True,  True,  True])"
      ]
     },
     "execution_count": 71,
     "metadata": {},
     "output_type": "execute_result"
    }
   ],
   "source": [
    "def cumany(x):\n",
    "    if not np.any(x):\n",
    "        return x.copy()\n",
    "    n = np.argmax(x)\n",
    "    wyjsciowy = np.repeat(False, x.size)\n",
    "    wyjsciowy[n:] = True\n",
    "    return wyjsciowy\n",
    "x = np.array([False, True, False, True, True, True])\n",
    "cumany(x)"
   ]
  },
  {
   "cell_type": "markdown",
   "metadata": {},
   "source": [
    "## Napisz funkcję losuj(), która przyjmuje (a) liczbę całkowitą n, (b) wektor numeryczny x o długości k o unikatowych wartościach, (c) wektor prawdopodobieństw p o długości k. Bazując tylko na rozkładzie jednostajnym, wygeneruj n losowych wartości z x zgodnie z prawdopodobieństwem p. Algorytm: wygeneruj losową wartość u z [0,1]. Znajdź takie m, że wartość u znajduje się pomiędzy sumą m-1 pierwszych prawdopodobieństw z wektora p, a sumą m pierwszych prawdopodobieństw z wektora p. Zwróć m-tą wartość z x."
   ]
  },
  {
   "cell_type": "code",
   "execution_count": 72,
   "metadata": {},
   "outputs": [
    {
     "data": {
      "text/plain": [
       "(array([0.39437005, 0.73107304, 0.16106901, 0.60069857, 0.86586446]),\n",
       " array([11, 22, 11, 22, 22]))"
      ]
     },
     "execution_count": 72,
     "metadata": {},
     "output_type": "execute_result"
    }
   ],
   "source": [
    "def losuj(n,x,p):\n",
    "    u = np.random.uniform(0,1,n)\n",
    "    cum = np.cumsum(p)\n",
    "    temp = np.digitize(u, cum) # funkcja dopasowująca elementy do konkretnego koszyka, \n",
    "    #sprawdzająca czy dany element pasuje do przedziału, czyli dokładnie to co chcemy\n",
    "    return (u, x[temp]) #zwracam też u żeby zobaczyć jak to zadziałało na konkretnyc liczbach\n",
    "n = 5\n",
    "x = np.array([11,22,33])\n",
    "p = np.array([0.5,0.4,0.1])\n",
    "losuj(n,x,p)"
   ]
  },
  {
   "cell_type": "markdown",
   "metadata": {},
   "source": [
    "## Napisz​ ​ funkcję,​ ​ która​ ​ jako​ ​ argumenty​ ​ przyjmuje:​ ​ (a)​ ​ rosnąco posortowany​ ​ wektor​ ​ x ​ ​ o ​ ​ długości​ ​ n,​ ​ (b)​ ​ dowolny​ ​ wektor​ ​ y ​ ​ o ​ ​ długości​ ​ n,​ ​ (c) wektor​ ​ wartości​ ​ z ​ ​ o ​ ​ długości​ ​ k ​ ​ i ​ ​ elementach​ ​ z ​ ​ przedziału​ ​ tego​ ​ samego,​ ​ co wartości​ ​ w ​ ​ x.​ ​ Niech​ ​ f ​ ​ będzie​ ​ kawałkami​ ​ liniową​ ​ interpolacją​ ​ punktów ( x 1 , y 1 ), ..., (x n , y n ) .​ ​ Zwróć​ ​ wektor​ ​ w ​ ​ o ​ ​ długości​ ​ k,​ ​ taki​ ​ że​ ​ w i = f (z i ) ."
   ]
  },
  {
   "cell_type": "code",
   "execution_count": 73,
   "metadata": {
    "scrolled": true
   },
   "outputs": [
    {
     "data": {
      "image/png": "[encoded data removed]",
      "text/plain": [
       "<Figure size 432x288 with 1 Axes>"
      ]
     },
     "metadata": {},
     "output_type": "display_data"
    }
   ],
   "source": [
    "def interpolacja(x,y,z):\n",
    "    num = np.digitize(z, x, right = True)\n",
    "    #num[num == x.size] = x.size\n",
    "    w = (y[num]-y[num-1])*(z-x[num-1])/(x[num]-x[num-1])+y[num-1]\n",
    "    return w\n",
    "x = np.array([1,2,3,4,5,6,7])\n",
    "z = np.array([1,2.1,7])\n",
    "y = np.array([7,6,5,4,3,2,1])\n",
    "\n",
    "plt.plot(x,y,'r')\n",
    "plt.plot(z,interpolacja(x,y,z),'o')\n",
    "plt.show()"
   ]
  },
  {
   "cell_type": "markdown",
   "metadata": {},
   "source": [
    "## 1.14 Mając​ ​ daną​ ​ macierz​ ​ n ​ ​ x ​ ​ k ​ ​ z ​ ​ elementami​ ​ rzeczywistymi,​ ​ zastosuj funkcję​ ​ softmax​ ​ do​ ​ każdego​ ​ wiersza,​ ​ to​ ​ znaczy​. Następnie​ ​ dokonaj​ ​ kodowania​ ​ one-hot​ ​ dla​ ​ każdego​ ​ wiersza,​ ​ czyli​ ​ znajdź kolumnę​ ​ z ​ ​ wartością​ ​ najbliżej​ ​ 1 ​ ​(największą​ ​ wartością).​ ​ Zwróć​ ​ wektor​ ​ odługości​ ​ n."
   ]
  },
  {
   "cell_type": "code",
   "execution_count": 74,
   "metadata": {},
   "outputs": [
    {
     "data": {
      "text/plain": [
       "array([0, 2, 3, 5, 3, 3, 4])"
      ]
     },
     "execution_count": 74,
     "metadata": {},
     "output_type": "execute_result"
    }
   ],
   "source": [
    "A = np.random.uniform(-1,1,size = (7,6))\n",
    "A_exp = np.exp(A)\n",
    "A_exp.sum(axis=1)\n",
    "np.argmax(A_exp/np.sum(A_exp, axis=1).reshape(-1,1),axis=1)"
   ]
  },
  {
   "cell_type": "markdown",
   "metadata": {},
   "source": [
    "## 1.15​ ​ Dla​ ​ danego​ ​ wektora​ ​ liczbowego​ ​ x ​ ​ o ​ ​ nieparzystej​ ​ długości​ ​ n ​ ​ i ​ ​ wartości k​ ​ <=​ ​ (n−1)/2​ ​ wyznacz​ ​ tzw.​ ​ średnią​ ​ k-winsorowską,​ ​ tj.​ ​ średnią​ ​ arytmetyczną z​ ​ podwektora​ ​ x,​ ​ w ​ ​ którym​ ​ k ​ ​ najmniejszych​ ​ i ​ ​ k ​ ​ największych​ ​ elementów zostaje​ ​ zastąpionych​ ​ przez,​ ​ odpowiednio,​ ​ (k​ ​ + ​ ​ 1)-szą​ ​ wartość​ ​ najmniejszą​ ​ i największą."
   ]
  },
  {
   "cell_type": "code",
   "execution_count": 75,
   "metadata": {},
   "outputs": [
    {
     "data": {
      "text/plain": [
       "4.5"
      ]
     },
     "execution_count": 75,
     "metadata": {},
     "output_type": "execute_result"
    }
   ],
   "source": [
    "def winsor(x,k):\n",
    "    sort = np.sort(x)\n",
    "    sort[:k] = sort[k]\n",
    "    sort[(-k):] = sort[-k-1]\n",
    "    return np.mean(sort)\n",
    "\n",
    "x = np.array([5,4,8,1,3,2,7,6,9,0])\n",
    "k = 3\n",
    "winsor(x,k)"
   ]
  },
  {
   "cell_type": "markdown",
   "metadata": {},
   "source": [
    "## 1.16​ ​ Napisz​ ​ funkcję​ ​ factorial_stirling(),​ ​ która​ ​ zwraca​ ​ przybliżoną​ ​ wartość silni​ ​ według​ ​ wzoru​ ​ Stirlinga:​ ​ ​ ​ n ! ≃ ( n e ) n √2πn"
   ]
  },
  {
   "cell_type": "code",
   "execution_count": 76,
   "metadata": {},
   "outputs": [
    {
     "data": {
      "text/plain": [
       "array([0.07786299, 0.0272984 , 0.01650693, 0.01182622, 0.00921276])"
      ]
     },
     "execution_count": 76,
     "metadata": {},
     "output_type": "execute_result"
    }
   ],
   "source": [
    "def factorial_stirling(n):\n",
    "    return ((n/np.e)**n)*(2*np.pi*n)**(0.5)\n",
    "#poniżej sprawdzam jak duży jest błąd względny przybliżenia:\n",
    "test = np.arange(1,10,2)\n",
    "#funkcja vectorize \"pomaga\" funkcji, która nie została stworzona do pracy \n",
    "#na wektorach pracować na wektorach; tj. zmienia ją na inną funkcję, która \n",
    "#ma tą możliwość\n",
    "factorial_vect = np.vectorize(np.math.factorial)\n",
    "(factorial_vect(test)-factorial_stirling(test))/factorial_vect(test)"
   ]
  },
  {
   "cell_type": "markdown",
   "metadata": {},
   "source": [
    "## 1.17​ ​ Korzystając​ ​ ze​ ​ wzoru​ ​ Leibniza​ oblicz​ ​ przybliżoną wartość​ ​ liczby​ ​ pi​ ​ dla​ ​ 1 ​ ​ 000,​ ​ 10​ ​ 000​ ​ i ​ ​ 100​ ​ 000​ ​ początkowych​ ​ wyrazów​ ​ i porównaj​ ​ uzyskane​ ​ liczby​ ​ z ​ ​ wartością​ ​ R-owej​ ​ stałej​ pi."
   ]
  },
  {
   "cell_type": "code",
   "execution_count": 77,
   "metadata": {},
   "outputs": [
    {
     "data": {
      "text/plain": [
       "0.0031830192943107455"
      ]
     },
     "execution_count": 77,
     "metadata": {},
     "output_type": "execute_result"
    }
   ],
   "source": [
    "def leibnitz(n):\n",
    "    a = np.arange(0,n,1)\n",
    "    temp = 4*(-1)**a/(2*a+1)\n",
    "    return np.sum(temp)\n",
    "#poniżej sorawdzamy błąd bezwzględny przybliżenia\n",
    "np.abs(leibnitz(100)-np.pi)/np.pi"
   ]
  },
  {
   "cell_type": "markdown",
   "metadata": {},
   "source": [
    "## 1.18​ ​ Podana​ ​ wyżej​ ​ metoda​ ​ nie​ ​ jest​ ​ jedyną​ ​ na​ ​ przybliżanie​ ​ liczby​ ​ pi. Skorzystamy​ ​ teraz​ ​ z ​ ​ metody​ ​ Monte​ ​ Carlo,​ ​ której​ ​ algorytm​ ​ wygląda następująco:\n",
    "### 1. Wylosuj​ ​ n ​ ​ punktów​ ​ z ​ ​ dwuwymiarowej​ ​ przestrzeni​ ​ [-1,1]​ ​ x ​ ​ [-1,1]\n",
    "### 2. Sprawdź​ ​ ile​ ​ punktów​ ​ jest​ ​ oddalonych​ ​ od​ ​ punktu​ ​ (0,0)​ ​ o ​ ​ mniej​ ​ niż​ ​ 1\n",
    "### 3. Podziel​ ​ tę​ ​ liczbę​ ​ przez​ ​ n ​ ​ i ​ ​ przemnóż​ ​ przez​ ​ 4. \n",
    "### Do​ ​ losowania​ ​ punktów​ ​ użyj​ ​ funkcji​ ​ np.random.uniform​ ​ (sprawdź​ ​ w dokumentacji​ ​ jak)"
   ]
  },
  {
   "cell_type": "code",
   "execution_count": 78,
   "metadata": {},
   "outputs": [
    {
     "data": {
      "text/plain": [
       "3.14238"
      ]
     },
     "execution_count": 78,
     "metadata": {},
     "output_type": "execute_result"
    }
   ],
   "source": [
    "def monte_carlo(n):\n",
    "    #tworzymy zestaw punktów, z których wpsółrzedne x zawarte są \n",
    "    #w tablicy x, a współrzedne y zawarte w tablicy y; potem sprawdzamy \n",
    "    #czy punkty te są oddalone od (0,0) o więcej niż 1\n",
    "    x = np.random.uniform(low = -1, high = 1, size = n)\n",
    "    y = np.random.uniform(low = -1, high = 1, size = n)    \n",
    "    return 4*np.sum(x**2+y**2 <= 1)/n\n",
    "monte_carlo(1000000)"
   ]
  },
  {
   "cell_type": "markdown",
   "metadata": {},
   "source": [
    "## 1.19​ ​ Dla​ ​ danego​ ​ wektora​ ​ liczbowego​ ​ zawierającego​ ​ braki​ ​ danych​ ​ ( NA) należy​ ​ uzupełnić​ ​ je​ ​ średnią​ ​ wartością​ ​ pozostałych,​ ​ poprawnych​ ​ wartości."
   ]
  },
  {
   "cell_type": "code",
   "execution_count": 79,
   "metadata": {},
   "outputs": [
    {
     "data": {
      "text/plain": [
       "array([1., 4., 6., 4., 5.])"
      ]
     },
     "execution_count": 79,
     "metadata": {},
     "output_type": "execute_result"
    }
   ],
   "source": [
    "def fill(x):\n",
    "    temp = x.copy()\n",
    "    np.place(temp, np.isnan(temp), np.nansum(x)/np.sum(~np.isnan(x)))\n",
    "    return temp\n",
    "x = np.array([1,np.NaN,6,np.NaN,5])\n",
    "fill(x)"
   ]
  },
  {
   "cell_type": "markdown",
   "metadata": {},
   "source": [
    "## 1.20​ ​ Wypisz​ ​ w ​ ​ postaci​ ​ wektora​ ​ dziesięć​ ​ pierwszych​ ​ liczb​ ​ rozwinięcia dziesiętnego​ ​ liczby​ ​ pi​ ​ (korzystając​ ​ ze​ ​ stałej​ ​ R-owej​ pi​ ). Wynik​ ​ powinien​ ​ być​ ​ następujący:​ [3​ ​ 1 ​ ​ 4 ​ ​ 1 ​ ​ 5 ​ ​ 9 ​ ​ 2 ​ ​ 6 ​ ​ 5 ​ ​ 3 ​ ​ 5]"
   ]
  },
  {
   "cell_type": "code",
   "execution_count": 83,
   "metadata": {},
   "outputs": [
    {
     "data": {
      "text/plain": [
       "'3 1 4 1 5 9 2 6 5 3'"
      ]
     },
     "execution_count": 83,
     "metadata": {},
     "output_type": "execute_result"
    }
   ],
   "source": [
    "pi = 10**12*np.round(np.pi, 12)\n",
    "pi_str = pi.astype(np.str_)[0:10]\n",
    "' '.join([pi_str[i:i+1] for i in range (0, len(pi_str), 1)])"
   ]
  },
  {
   "cell_type": "code",
   "execution_count": 82,
   "metadata": {},
   "outputs": [
    {
     "data": {
      "text/plain": [
       "'3 1 4 1 5 9 2 6 5 3'"
      ]
     },
     "execution_count": 82,
     "metadata": {},
     "output_type": "execute_result"
    }
   ],
   "source": [
    "pi_str = (10**12*np.round(np.pi, 12)).astype(np.str_)[0:10]\n",
    "' '.join([pi_str[i:i+1] for i in range (0, len(pi_str), 1)])"
   ]
  },
  {
   "cell_type": "code",
   "execution_count": 84,
   "metadata": {},
   "outputs": [
    {
     "data": {
      "text/plain": [
       "'3 1 4 1 5 9 2 6 5 3'"
      ]
     },
     "execution_count": 84,
     "metadata": {},
     "output_type": "execute_result"
    }
   ],
   "source": [
    "import re as r #Importuję REGEX (do obsługi wyrażeń regularnych)\n",
    "\n",
    "pi = str(np.pi) #Rzutuję zmienną PI do stringa, będzie to input to wyrażeń regularnych\n",
    "pi = r.sub('\\.', '', pi)[0:10] #Usuwam kropkę, następnie pobieram 10 pierwszych znaków\n",
    "pi = r.sub('(\\d)', '\\\\1 ' , pi) #Wstawiam spację pomiędzy cyframi\n",
    "pi = r.sub(' $', '', pi) #Usuwam nadmiarową spację na końcu linii\n",
    "pi"
   ]
  },
  {
   "cell_type": "markdown",
   "metadata": {},
   "source": [
    "## 1.21​ ​ Napisz​ ​ funkcję,​ ​ która​ ​ zwraca​ ​ modę,​ ​ tzn.​ ​ Najczęściej​ ​ pojawiającą​ ​ się wartość​ ​ w ​ ​ wektorze.​ ​ Jeśli​ ​ moda​ ​ nie​ ​ jest​ ​ unikalna,​ ​ zwróć​ ​ dowolną."
   ]
  },
  {
   "cell_type": "code",
   "execution_count": null,
   "metadata": {},
   "outputs": [],
   "source": [
    "def moda(x):\n",
    "    values = np.unique(ar = x, return_counts = True)[0]\n",
    "    counts = np.unique(ar = x, return_counts = True)[1]\n",
    "    return values[np.argmax(counts)]\n",
    "x = np.array([1,2,3,3,3,3,4,5,5,6,6,7,8])\n",
    "moda(x)"
   ]
  },
  {
   "cell_type": "markdown",
   "metadata": {},
   "source": [
    "## 1.22​ ​ Napisz​ ​ samodzielnie​ ​ funkcję​ ​ regresja(),​ ​ która​ ​ policzy​ ​ współczynniki​ ​ α, β​ ​ w ​ ​ modelu​ ​ prostej​ ​ regresji​ ​ liniowej,​ ​ tj.y​ ​ = ​ ​ α ​ ​ + ​ ​ βx.​ ​ Funkcja​ ​ na​ ​ wejściu przyjmuje​ ​ dwa​ ​ wektory​ ​ liczbowe​ ​ x,​ ​ y."
   ]
  },
  {
   "cell_type": "code",
   "execution_count": null,
   "metadata": {},
   "outputs": [],
   "source": [
    "def regresja(x,y):\n",
    "    mean_x = np.mean(x)\n",
    "    mean_y = np.mean(y)\n",
    "    a = np.sum((x-mean_x)*(y-mean_y))/np.sum((x-mean_x)**2)\n",
    "    b = mean_y - a*mean_x\n",
    "    y_estymowane = a*x+b\n",
    "    return (plt.plot(x, y_estymowane, 'r'), plt.plot(x,y,'o'), plt.show())"
   ]
  },
  {
   "cell_type": "code",
   "execution_count": null,
   "metadata": {},
   "outputs": [],
   "source": [
    "x = np.arange(1,11,1)\n",
    "y = np.random.uniform(-5,5,10)\n",
    "regresja(x,y)"
   ]
  },
  {
   "cell_type": "markdown",
   "metadata": {},
   "source": [
    "## 1.23​ ​ Dla​ ​ dowolnej​ ​ macierzy​ ​ odwróć​ ​ kolejność​ ​ jej​ ​ wierszy"
   ]
  },
  {
   "cell_type": "code",
   "execution_count": null,
   "metadata": {},
   "outputs": [],
   "source": [
    "A = np.random.uniform(-1,1,size = (5,5))\n",
    "A"
   ]
  },
  {
   "cell_type": "code",
   "execution_count": null,
   "metadata": {},
   "outputs": [],
   "source": [
    "A[::-1,].copy()"
   ]
  },
  {
   "cell_type": "markdown",
   "metadata": {},
   "source": [
    "## 1.23​ ​ Dla​ ​ dowolnej​ ​ macierzy​ ​ odwróć​ ​ kolejność​ ​ jej​ ​kolumn"
   ]
  },
  {
   "cell_type": "code",
   "execution_count": null,
   "metadata": {},
   "outputs": [],
   "source": [
    "A[:,::-1].copy()"
   ]
  },
  {
   "cell_type": "markdown",
   "metadata": {},
   "source": [
    "## 1.27​ ​ Mamy​ ​ dany​ ​ wektor​ ​ T ​ ​ o ​ ​ długości​ ​ n ​ ​ liczb​ ​ ze​ ​ zbioru​ ​ {0,...,k-1}.​ ​ Napisz funkcję,​ ​ która​ ​ dokona​ ​ kodowania​ ​ one-hot-encode​ ​ dla​ ​ każej​ ​ wartości​ ​ z ​ ​ T. Innymi​ ​ słowy​ ​ zwróć​ ​ macierz​ ​ zer​ ​ i ​ ​ jedynek​ ​ R ​ ​ o ​ ​ n ​ ​ wierszach​ ​ i ​ ​ k ​ ​ kolumnach, taką​ ​ że​ ​ jedynka​ ​ znajduje​ ​ się​ ​ w ​ ​ i-tym​ ​ wierszu​ ​ na​ ​ j-tej​ ​ kolumnie​ ​ wtedy​ ​ i ​ ​ tylko wtedy,​ ​ gdy​ ​ i-ty​ ​ element​ ​ wektora​ ​ T ​ ​ równa​ ​ się​ ​ j."
   ]
  },
  {
   "cell_type": "code",
   "execution_count": null,
   "metadata": {},
   "outputs": [],
   "source": [
    "T = np.array([0,2,1,2])\n",
    "k = np.max(T)+1\n",
    "A = np.zeros([T.size,k])\n",
    "A[np.arange(T.size),T] =1\n",
    "A"
   ]
  },
  {
   "cell_type": "markdown",
   "metadata": {},
   "source": [
    "## podejście 2"
   ]
  },
  {
   "cell_type": "code",
   "execution_count": null,
   "metadata": {},
   "outputs": [],
   "source": [
    "np.eye(k)[T]"
   ]
  },
  {
   "cell_type": "markdown",
   "metadata": {},
   "source": [
    "## 1.25​ ​ Niech​ ​ macierz​ ​ X ​ ​ przechowuje​ ​ n ​ ​ punktów​ ​ (n​ ​ wierszy)​ ​ o ​ ​ d współrzędnych​ ​ (d​ ​ kolumn).​ ​ Znaleźć​ ​ boks​ ​ okalający​ ​ te​ ​ punkty.​ ​ Innymi​ ​ słowy, zwrócić​ ​ macierz​ ​ B ​ ​ o ​ ​ 2 ​ ​ wierszach​ ​ i ​ ​ d ​ ​ kolumnach​ ​ taką​ ​ że​ ​ pierwszy​ ​ wiersz​ ​ to minimalne​ ​ wartości​ ​ w ​ ​ każdym​ ​ wymiarze,​ ​ a ​ ​ drugi​ ​ wiersz​ ​ to​ ​ maksymalne wartości​ ​ w ​ ​ każdym​ ​ wymiarze."
   ]
  },
  {
   "cell_type": "code",
   "execution_count": null,
   "metadata": {},
   "outputs": [],
   "source": [
    "X = np.random.uniform(-5,5,size=(25,3))\n",
    "B = np.r_[np.min(X,axis=0),np.max(X,axis=0)].reshape(2,-1)\n",
    "B"
   ]
  },
  {
   "cell_type": "code",
   "execution_count": null,
   "metadata": {},
   "outputs": [],
   "source": [
    "np.vstack((np.min(X,axis=0),np.max(X,axis=0)))"
   ]
  },
  {
   "cell_type": "markdown",
   "metadata": {},
   "source": [
    "## 1.26​ ​ Niech​ ​ X ​ ​ przechowuje​ ​ n ​ ​ punktów​ ​ (n​ ​ wierszy)​ ​ o ​ ​ d ​ ​ ​ współrzędnych​ ​ (d kolumn).​ ​ Niech​ ​ Y ​ ​ przechowuje​ ​ m ​ ​ punktów​ ​ (m​ ​ wierszy)​ ​ o ​ ​ d ​ ​ ​ współrzędnych(d​ ​ kolumn).​ ​ Zwróć​ ​ wektor​ ​ R,​ ​ który​ ​ ma​ ​ długość​ ​ m,​ ​ taki​ ​ że​ ​ jego​ ​ i-ta współrzędna​ ​ oznacza​ ​ indeks​ ​ punktu​ ​ w ​ ​ X,​ ​ który​ ​ ma​ ​ najmniejszy​ ​ dystans​ ​ do i-tego​ ​ punktu​ ​ w ​ ​ Y."
   ]
  },
  {
   "cell_type": "code",
   "execution_count": null,
   "metadata": {},
   "outputs": [],
   "source": [
    "import scipy\n",
    "import scipy.spatial\n",
    "from scipy.spatial import distance_matrix\n",
    "\n",
    "X = np.random.uniform(-5,-4, size=(25,2))\n",
    "Y = np.random.uniform(4,5, size=(3,2))\n",
    "\n",
    "np.argmin(scipy.spatial.distance_matrix(Y, X),axis=1)"
   ]
  }
 ],
 "metadata": {
  "kernelspec": {
   "display_name": "Python 3",
   "language": "python",
   "name": "python3"
  },
  "language_info": {
   "codemirror_mode": {
    "name": "ipython",
    "version": 3
   },
   "file_extension": ".py",
   "mimetype": "text/x-python",
   "name": "python",
   "nbconvert_exporter": "python",
   "pygments_lexer": "ipython3",
   "version": "3.6.0"
  }
 },
 "nbformat": 4,
 "nbformat_minor": 2
}
