{
 "cells": [
  {
   "cell_type": "code",
   "execution_count": 1,
   "metadata": {},
   "outputs": [],
   "source": [
    "# https://www.w3schools.com/xml/xpath_syntax.asp\n",
    "# https://www.w3schools.com/xml/xpath_examples.asp"
   ]
  },
  {
   "cell_type": "code",
   "execution_count": 2,
   "metadata": {},
   "outputs": [],
   "source": [
    "from lxml import etree\n",
    "tree = etree.parse(\"siecKsiegarni.xml\")"
   ]
  },
  {
   "cell_type": "code",
   "execution_count": 3,
   "metadata": {},
   "outputs": [
    {
     "data": {
      "text/plain": [
       "<Element Siec at 0x7f877c1b0d08>"
      ]
     },
     "execution_count": 3,
     "metadata": {},
     "output_type": "execute_result"
    }
   ],
   "source": [
    "siec = tree.getroot()\n",
    "siec"
   ]
  },
  {
   "cell_type": "code",
   "execution_count": 4,
   "metadata": {},
   "outputs": [
    {
     "name": "stdout",
     "output_type": "stream",
     "text": [
      "b'<Siec nazwa=\"CiekaweKsiazki\">\\n\\n\\t<Ksiegarnia adres=\"Aleje Jerozolimskie\">\\n\\t<Wlasciciel imie=\"Maja\" nazwisko=\"Kowalska\"/>\\n\\t<Ksiazka gatunek=\"Fantasy\" autor=\"Brent Weeks\" liczba=\"3\">\\n\\tOkaleczone oko\\n\\t</Ksiazka>\\n\\t<Ksiazka gatunek=\"Fantasy\" autor=\"Brent Weeks\" liczba=\"1\">\\n\\tO&#347;lepiaj&#261;cy n&#243;&#380;\\n\\t</Ksiazka>\\n\\t<Ksiazka gatunek=\"Fantasy\" autor=\"Brent Weeks\" liczba=\"2\">\\n\\tCzarny Pryzmat\\n\\t</Ksiazka>\\n\\t<Ksiazka gatunek=\"Fantasy\" autor=\"Brent Weeks\" liczba=\"5\">\\n\\tKrwawe Zwierciad&#322;o\\n\\t</Ksiazka>\\n\\t</Ksiegarnia>\\n\\n\\t<Ksiegarnia adres=\"3 Maja\">\\n\\t<Wlasciciel imie=\"Matylda\" nazwisko=\"Jankowska\"/>\\n\\t<Ksiazka gatunek=\"Fantasy\" autor=\"Brent Weeks\" liczba=\"1\">\\n\\tCzarny Pryzmat\\n\\t</Ksiazka>\\n\\t<Ksiazka gatunek=\"Fantasy\" autor=\"Brent Weeks\" liczba=\"2\">\\n\\tKrwawe Zwierciad&#322;o\\n\\t</Ksiazka>\\n\\t<Ksiazka gatunek=\"Klasyka\" autor=\"Jane Austen\" liczba=\"3\">\\n\\tDuma i uprzedzenie\\n\\t</Ksiazka>\\n\\t</Ksiegarnia>\\n\\n\\t<Ksiegarnia adres=\"Marywilska\">\\n\\t<Wlasciciel imie=\"Jan\" nazwisko=\"Nowak\"/>\\n\\t<Ksiazka gatunek=\"Fantasy\" autor=\"Brent Weeks\">\\n\\tOkaleczone oko\\n\\t</Ksiazka>\\n\\t<Ksiazka gatunek=\"Fantasy\" autor=\"Brent Weeks\">\\n\\tO&#347;lepiaj&#261;cy n&#243;&#380;\\n\\t</Ksiazka>\\n\\t<Ksiazka gatunek=\"Klasyka\" autor=\"Jane Austen\">\\n\\tDuma i uprzedzenie\\n\\t</Ksiazka>\\n\\t</Ksiegarnia>\\n\\n</Siec>\\n'\n"
     ]
    }
   ],
   "source": [
    "print(etree.tostring(siec, pretty_print=True))"
   ]
  },
  {
   "cell_type": "code",
   "execution_count": 5,
   "metadata": {},
   "outputs": [
    {
     "data": {
      "text/plain": [
       "'Siec'"
      ]
     },
     "execution_count": 5,
     "metadata": {},
     "output_type": "execute_result"
    }
   ],
   "source": [
    "siec.tag"
   ]
  },
  {
   "cell_type": "code",
   "execution_count": 6,
   "metadata": {},
   "outputs": [
    {
     "data": {
      "text/plain": [
       "['nazwa']"
      ]
     },
     "execution_count": 6,
     "metadata": {},
     "output_type": "execute_result"
    }
   ],
   "source": [
    "siec.keys()"
   ]
  },
  {
   "cell_type": "code",
   "execution_count": 7,
   "metadata": {},
   "outputs": [
    {
     "data": {
      "text/plain": [
       "'CiekaweKsiazki'"
      ]
     },
     "execution_count": 7,
     "metadata": {},
     "output_type": "execute_result"
    }
   ],
   "source": [
    "siec.get(\"nazwa\")"
   ]
  },
  {
   "cell_type": "code",
   "execution_count": 8,
   "metadata": {},
   "outputs": [
    {
     "data": {
      "text/plain": [
       "'Fantasy'"
      ]
     },
     "execution_count": 8,
     "metadata": {},
     "output_type": "execute_result"
    }
   ],
   "source": [
    "ksiazka = siec[0][1]\n",
    "ksiazka.get(\"gatunek\")"
   ]
  },
  {
   "cell_type": "code",
   "execution_count": 9,
   "metadata": {},
   "outputs": [
    {
     "data": {
      "text/plain": [
       "'Brent Weeks'"
      ]
     },
     "execution_count": 9,
     "metadata": {},
     "output_type": "execute_result"
    }
   ],
   "source": [
    "ksiazka.get(\"autor\")"
   ]
  },
  {
   "cell_type": "code",
   "execution_count": 10,
   "metadata": {},
   "outputs": [
    {
     "name": "stdout",
     "output_type": "stream",
     "text": [
      "b'<Ksiazka gatunek=\"Fantasy\" autor=\"Brent Weeks\" liczba=\"3\">\\n\\tOkaleczone oko\\n\\t</Ksiazka>\\n\\t\\n'\n"
     ]
    }
   ],
   "source": [
    "print(etree.tostring(ksiazka, pretty_print=True))"
   ]
  },
  {
   "cell_type": "code",
   "execution_count": 11,
   "metadata": {},
   "outputs": [
    {
     "data": {
      "text/plain": [
       "'Okaleczone oko'"
      ]
     },
     "execution_count": 11,
     "metadata": {},
     "output_type": "execute_result"
    }
   ],
   "source": [
    "ksiazka.text.strip()"
   ]
  },
  {
   "cell_type": "markdown",
   "metadata": {},
   "source": [
    "# xpath"
   ]
  },
  {
   "cell_type": "markdown",
   "metadata": {},
   "source": [
    "## ścieżka bezwzględna, zawsze od początku dokumentu"
   ]
  },
  {
   "cell_type": "code",
   "execution_count": 12,
   "metadata": {},
   "outputs": [
    {
     "data": {
      "text/plain": [
       "[<Element Ksiegarnia at 0x7f877c162e48>,\n",
       " <Element Ksiegarnia at 0x7f877c162088>,\n",
       " <Element Ksiegarnia at 0x7f877c16f0c8>]"
      ]
     },
     "execution_count": 12,
     "metadata": {},
     "output_type": "execute_result"
    }
   ],
   "source": [
    "siec.xpath(\"/Siec/*\")"
   ]
  },
  {
   "cell_type": "code",
   "execution_count": 13,
   "metadata": {},
   "outputs": [
    {
     "data": {
      "text/plain": [
       "[<Element Ksiegarnia at 0x7f877c162e48>,\n",
       " <Element Ksiegarnia at 0x7f877c162088>,\n",
       " <Element Ksiegarnia at 0x7f877c16f0c8>]"
      ]
     },
     "execution_count": 13,
     "metadata": {},
     "output_type": "execute_result"
    }
   ],
   "source": [
    "ksiazka.xpath(\"/Siec/*\")"
   ]
  },
  {
   "cell_type": "code",
   "execution_count": 14,
   "metadata": {},
   "outputs": [
    {
     "data": {
      "text/plain": [
       "[<Element Wlasciciel at 0x7f877c162e88>,\n",
       " <Element Ksiazka at 0x7f877c162c08>,\n",
       " <Element Ksiazka at 0x7f877c16f248>,\n",
       " <Element Ksiazka at 0x7f877c16f288>,\n",
       " <Element Ksiazka at 0x7f877c16f348>,\n",
       " <Element Wlasciciel at 0x7f877c16f508>,\n",
       " <Element Ksiazka at 0x7f877c16f548>,\n",
       " <Element Ksiazka at 0x7f877c16f588>,\n",
       " <Element Ksiazka at 0x7f877c16f5c8>,\n",
       " <Element Wlasciciel at 0x7f877c16f388>,\n",
       " <Element Ksiazka at 0x7f877c16f608>,\n",
       " <Element Ksiazka at 0x7f877c16f648>,\n",
       " <Element Ksiazka at 0x7f877c16f688>]"
      ]
     },
     "execution_count": 14,
     "metadata": {},
     "output_type": "execute_result"
    }
   ],
   "source": [
    "siec.xpath(\"/Siec/Ksiegarnia/*\")"
   ]
  },
  {
   "cell_type": "markdown",
   "metadata": {},
   "source": [
    "## ścieżka względna, od znacznika, na rzecz którego wywołujemy"
   ]
  },
  {
   "cell_type": "code",
   "execution_count": 15,
   "metadata": {},
   "outputs": [
    {
     "data": {
      "text/plain": [
       "[<Element Wlasciciel at 0x7f877c162e88>,\n",
       " <Element Ksiazka at 0x7f877c162c08>,\n",
       " <Element Ksiazka at 0x7f877c16f248>,\n",
       " <Element Ksiazka at 0x7f877c16f288>,\n",
       " <Element Ksiazka at 0x7f877c16f348>,\n",
       " <Element Wlasciciel at 0x7f877c16f508>,\n",
       " <Element Ksiazka at 0x7f877c16f548>,\n",
       " <Element Ksiazka at 0x7f877c16f588>,\n",
       " <Element Ksiazka at 0x7f877c16f5c8>,\n",
       " <Element Wlasciciel at 0x7f877c16f388>,\n",
       " <Element Ksiazka at 0x7f877c16f608>,\n",
       " <Element Ksiazka at 0x7f877c16f648>,\n",
       " <Element Ksiazka at 0x7f877c16f688>]"
      ]
     },
     "execution_count": 15,
     "metadata": {},
     "output_type": "execute_result"
    }
   ],
   "source": [
    "siec.xpath(\"Ksiegarnia/*\")"
   ]
  },
  {
   "cell_type": "code",
   "execution_count": 16,
   "metadata": {},
   "outputs": [
    {
     "data": {
      "text/plain": [
       "[<Element Ksiazka at 0x7f877c162c08>,\n",
       " <Element Ksiazka at 0x7f877c16f248>,\n",
       " <Element Ksiazka at 0x7f877c16f288>,\n",
       " <Element Ksiazka at 0x7f877c16f348>]"
      ]
     },
     "execution_count": 16,
     "metadata": {},
     "output_type": "execute_result"
    }
   ],
   "source": [
    "ksiegarnia = siec[0]\n",
    "ksiegarnia.xpath(\"Ksiazka\")"
   ]
  },
  {
   "cell_type": "code",
   "execution_count": 17,
   "metadata": {},
   "outputs": [
    {
     "data": {
      "text/plain": [
       "[]"
      ]
     },
     "execution_count": 17,
     "metadata": {},
     "output_type": "execute_result"
    }
   ],
   "source": [
    "ksiegarnia.xpath(\"Ksiegarnia/*\")"
   ]
  },
  {
   "cell_type": "markdown",
   "metadata": {},
   "source": [
    "`//` - dowolne miejsce w dokumencie"
   ]
  },
  {
   "cell_type": "code",
   "execution_count": 18,
   "metadata": {},
   "outputs": [
    {
     "data": {
      "text/plain": [
       "[<Element Ksiegarnia at 0x7f877c162e48>,\n",
       " <Element Ksiegarnia at 0x7f877c162088>,\n",
       " <Element Ksiegarnia at 0x7f877c16f0c8>]"
      ]
     },
     "execution_count": 18,
     "metadata": {},
     "output_type": "execute_result"
    }
   ],
   "source": [
    "ksiegarnia.xpath(\"//Ksiegarnia\")"
   ]
  },
  {
   "cell_type": "code",
   "execution_count": 19,
   "metadata": {},
   "outputs": [
    {
     "data": {
      "text/plain": [
       "['Maja', 'Matylda', 'Jan']"
      ]
     },
     "execution_count": 19,
     "metadata": {},
     "output_type": "execute_result"
    }
   ],
   "source": [
    "siec.xpath(\"//@imie\")"
   ]
  },
  {
   "cell_type": "markdown",
   "metadata": {},
   "source": [
    "# 1.7"
   ]
  },
  {
   "cell_type": "code",
   "execution_count": 21,
   "metadata": {},
   "outputs": [
    {
     "data": {
      "text/plain": [
       "['Aleje Jerozolimskie', '3 Maja', 'Marywilska']"
      ]
     },
     "execution_count": 21,
     "metadata": {},
     "output_type": "execute_result"
    }
   ],
   "source": [
    "siec.xpath(\"//Ksiegarnia/@adres\")"
   ]
  },
  {
   "cell_type": "code",
   "execution_count": 24,
   "metadata": {},
   "outputs": [
    {
     "data": {
      "text/plain": [
       "['Okaleczone oko',\n",
       " 'Oślepiający nóż',\n",
       " 'Czarny Pryzmat',\n",
       " 'Krwawe Zwierciadło',\n",
       " 'Czarny Pryzmat',\n",
       " 'Krwawe Zwierciadło',\n",
       " 'Duma i uprzedzenie',\n",
       " 'Okaleczone oko',\n",
       " 'Oślepiający nóż',\n",
       " 'Duma i uprzedzenie']"
      ]
     },
     "execution_count": 24,
     "metadata": {},
     "output_type": "execute_result"
    }
   ],
   "source": [
    "[tytul.strip() for tytul in siec.xpath(\"//Ksiegarnia/Ksiazka/text()\")]"
   ]
  },
  {
   "cell_type": "code",
   "execution_count": 30,
   "metadata": {},
   "outputs": [
    {
     "data": {
      "text/plain": [
       "['Okaleczone oko',\n",
       " 'Oślepiający nóż',\n",
       " 'Czarny Pryzmat',\n",
       " 'Krwawe Zwierciadło',\n",
       " 'Czarny Pryzmat',\n",
       " 'Krwawe Zwierciadło',\n",
       " 'Okaleczone oko',\n",
       " 'Oślepiający nóż']"
      ]
     },
     "execution_count": 30,
     "metadata": {},
     "output_type": "execute_result"
    }
   ],
   "source": [
    "[tytul.strip() for tytul in siec.xpath(\"//Ksiegarnia/Ksiazka[@gatunek='Fantasy']/text()\")]"
   ]
  },
  {
   "cell_type": "code",
   "execution_count": 31,
   "metadata": {},
   "outputs": [
    {
     "ename": "SyntaxError",
     "evalue": "invalid syntax (<ipython-input-31-7dba89fd0efd>, line 5)",
     "output_type": "error",
     "traceback": [
      "\u001b[0;36m  File \u001b[0;32m\"<ipython-input-31-7dba89fd0efd>\"\u001b[0;36m, line \u001b[0;32m5\u001b[0m\n\u001b[0;31m    [tytul.strip() for tytul in )]\u001b[0m\n\u001b[0m                                ^\u001b[0m\n\u001b[0;31mSyntaxError\u001b[0m\u001b[0;31m:\u001b[0m invalid syntax\n"
     ]
    }
   ],
   "source": [
    "ksiazka = siec.xpath(\"//Ksiegarnia/Ksiazka[@gatunek='Fantasy']/text()\")\n",
    "ksiazka.text.strip()\n",
    "ksiazka.xpath\n",
    "                    \n",
    "[tytul.strip() for tytul in )]"
   ]
  },
  {
   "cell_type": "code",
   "execution_count": 36,
   "metadata": {},
   "outputs": [
    {
     "name": "stdout",
     "output_type": "stream",
     "text": [
      "Aleje Jerozolimskie - Kowalska\n",
      "3 Maja - Jankowska\n",
      "Marywilska - Nowak\n"
     ]
    }
   ],
   "source": [
    "for ksiegarnia in siec.xpath(\"//Ksiegarnia\"):\n",
    "    print(f'{ksiegarnia.get(\"adres\")} - {ksiegarnia.xpath(\"Wlasciciel/@nazwisko\")[0]}')"
   ]
  },
  {
   "cell_type": "code",
   "execution_count": 39,
   "metadata": {},
   "outputs": [
    {
     "data": {
      "text/plain": [
       "['3 Maja']"
      ]
     },
     "execution_count": 39,
     "metadata": {},
     "output_type": "execute_result"
    }
   ],
   "source": [
    "ksiegarnia.xpath(\"//Wlasciciel[@imie='Matylda' and @nazwisko ='Jankowska']/../@adres\")"
   ]
  },
  {
   "cell_type": "code",
   "execution_count": 42,
   "metadata": {},
   "outputs": [
    {
     "data": {
      "text/plain": [
       "['Okaleczone oko',\n",
       " 'Oślepiający nóż',\n",
       " 'Czarny Pryzmat',\n",
       " 'Krwawe Zwierciadło',\n",
       " 'Czarny Pryzmat',\n",
       " 'Krwawe Zwierciadło',\n",
       " 'Duma i uprzedzenie']"
      ]
     },
     "execution_count": 42,
     "metadata": {},
     "output_type": "execute_result"
    }
   ],
   "source": [
    "[tytul.strip() for tytul in siec.xpath(\"//Ksiegarnia/Ksiazka[@liczba]/text()\")]"
   ]
  },
  {
   "cell_type": "code",
   "execution_count": 46,
   "metadata": {},
   "outputs": [
    {
     "data": {
      "text/plain": [
       "['Okaleczone oko', 'Krwawe Zwierciadło', 'Duma i uprzedzenie']"
      ]
     },
     "execution_count": 46,
     "metadata": {},
     "output_type": "execute_result"
    }
   ],
   "source": [
    "[tytul.strip() for tytul in siec.xpath(\"//Ksiegarnia/Ksiazka[@liczba>=3]/text()\")]"
   ]
  },
  {
   "cell_type": "code",
   "execution_count": null,
   "metadata": {},
   "outputs": [],
   "source": []
  }
 ],
 "metadata": {
  "kernelspec": {
   "display_name": "Python 3",
   "language": "python",
   "name": "python3"
  },
  "language_info": {
   "codemirror_mode": {
    "name": "ipython",
    "version": 3
   },
   "file_extension": ".py",
   "mimetype": "text/x-python",
   "name": "python",
   "nbconvert_exporter": "python",
   "pygments_lexer": "ipython3",
   "version": "3.6.5"
  }
 },
 "nbformat": 4,
 "nbformat_minor": 2
}
