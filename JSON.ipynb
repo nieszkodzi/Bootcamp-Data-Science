{
 "cells": [
  {
   "cell_type": "code",
   "execution_count": 1,
   "metadata": {},
   "outputs": [],
   "source": [
    "import io, os.path, re\n",
    "import requests, urllib, json\n",
    "import numpy as np\n",
    "import pandas as pd"
   ]
  },
  {
   "cell_type": "code",
   "execution_count": 2,
   "metadata": {},
   "outputs": [
    {
     "name": "stdout",
     "output_type": "stream",
     "text": [
      "red\n",
      "#ff0000\n"
     ]
    }
   ],
   "source": [
    "tekstJSON = \"\"\"\n",
    "{\n",
    "        \"color\": \"red\",\n",
    "        \"value\": \"#ff0000\",\n",
    "        \"klucz\": \"wartość\"\n",
    "}\n",
    "\"\"\"\n",
    "\n",
    "j = json.loads(tekstJSON)\n",
    "j\n",
    "print(j[\"color\"])\n",
    "print(j[\"value\"])"
   ]
  },
  {
   "cell_type": "code",
   "execution_count": 3,
   "metadata": {},
   "outputs": [
    {
     "data": {
      "text/plain": [
       "'red'"
      ]
     },
     "execution_count": 3,
     "metadata": {},
     "output_type": "execute_result"
    }
   ],
   "source": [
    "tekstJSON = \"\"\"\n",
    "[\n",
    "\t{\n",
    "\t\t\"color\": \"red\",\n",
    "\t\t\"value\": \"#ff0000\"\n",
    "\t},\n",
    "    {\n",
    "\t\t\"color\": \"blue\",\n",
    "\t\t\"value\": \"#0000ff\"\n",
    "\t}\n",
    "]\n",
    "\"\"\"\n",
    "j = json.loads(tekstJSON)\n",
    "# j\n",
    "j[0][\"color\"]"
   ]
  },
  {
   "cell_type": "code",
   "execution_count": 4,
   "metadata": {},
   "outputs": [
    {
     "data": {
      "text/plain": [
       "'wartosc'"
      ]
     },
     "execution_count": 4,
     "metadata": {},
     "output_type": "execute_result"
    }
   ],
   "source": [
    "tekstJSON2 =\"\"\"\n",
    "{\n",
    "    \"sample\": {\n",
    "        \"someitem\": {\n",
    "            \"thesearecool\": [\n",
    "                {\n",
    "                    \"neat\": \"wow\"\n",
    "                },\n",
    "                {\n",
    "                    \"neat\": \"tubular\",\n",
    "                    \"klucz\": \"wartosc\"\n",
    "                }\n",
    "            ]\n",
    "        }\n",
    "    }\n",
    "}\n",
    "\"\"\"\n",
    "j = json.loads(tekstJSON2)\n",
    "j[\"sample\"][\"someitem\"][\"thesearecool\"][1][\"klucz\"]\n",
    "# j"
   ]
  },
  {
   "cell_type": "code",
   "execution_count": 5,
   "metadata": {},
   "outputs": [
    {
     "data": {
      "text/plain": [
       "<Response [200]>"
      ]
     },
     "execution_count": 5,
     "metadata": {},
     "output_type": "execute_result"
    }
   ],
   "source": [
    "f = requests.get(\"http://google.pl/\")\n",
    "f"
   ]
  },
  {
   "cell_type": "code",
   "execution_count": 6,
   "metadata": {},
   "outputs": [
    {
     "data": {
      "text/plain": [
       "200"
      ]
     },
     "execution_count": 6,
     "metadata": {},
     "output_type": "execute_result"
    }
   ],
   "source": [
    "f.status_code"
   ]
  },
  {
   "cell_type": "code",
   "execution_count": 7,
   "metadata": {},
   "outputs": [
    {
     "data": {
      "text/plain": [
       "<Response [404]>"
      ]
     },
     "execution_count": 7,
     "metadata": {},
     "output_type": "execute_result"
    }
   ],
   "source": [
    "f = requests.get(\"http://google.pl/nieistnieje.html\")\n",
    "f"
   ]
  },
  {
   "cell_type": "code",
   "execution_count": 8,
   "metadata": {},
   "outputs": [
    {
     "data": {
      "text/plain": [
       "'<!DOCTYPE html>\\n<html lang=en>\\n  <meta charset=utf-8>\\n  <meta name=viewport content=\"initial-scale=1, minimum-scale=1, width=device-width\">\\n  <title>Error 404 (Not Found)!!1</title>\\n  <style>\\n    *{margin:0;padding:0}html,code{font:15px/22px arial,sans-serif}html{background:#fff;color:#222;padding:15px}body{margin:7% auto 0;max-width:390px;min-height:180px;padding:30px 0 15px}* > body{background:url(//www.google.com/images/errors/robot.png) 100% 5px no-repeat;padding-right:205px}p{margin:11px 0 22px;overflow:hidden}ins{color:#777;text-decoration:none}a img{border:0}@media screen and (max-width:772px){body{background:none;margin-top:0;max-width:none;padding-right:0}}#logo{background:url(//www.google.com/images/branding/googlelogo/1x/googlelogo_color_150x54dp.png) no-repeat;margin-left:-5px}@media only screen and (min-resolution:192dpi){#logo{background:url(//www.google.com/images/branding/googlelogo/2x/googlelogo_color_150x54dp.png) no-repeat 0% 0%/100% 100%;-moz-border-image:url(//www.google.com/images/branding/googlelogo/2x/googlelogo_color_150x54dp.png) 0}}@media only screen and (-webkit-min-device-pixel-ratio:2){#logo{background:url(//www.google.com/images/branding/googlelogo/2x/googlelogo_color_150x54dp.png) no-repeat;-webkit-background-size:100% 100%}}#logo{display:inline-block;height:54px;width:150px}\\n  </style>\\n  <a href=//www.google.com/><span id=logo aria-label=Google></span></a>\\n  <p><b>404.</b> <ins>That’s an error.</ins>\\n  <p>The requested URL <code>/nieistnieje.html</code> was not found on this server.  <ins>That’s all we know.</ins>\\n'"
      ]
     },
     "execution_count": 8,
     "metadata": {},
     "output_type": "execute_result"
    }
   ],
   "source": [
    "f.text"
   ]
  },
  {
   "cell_type": "code",
   "execution_count": 9,
   "metadata": {},
   "outputs": [
    {
     "data": {
      "text/plain": [
       "'{\\n  \"origin\": \"217.67.203.51\"\\n}\\n'"
      ]
     },
     "execution_count": 9,
     "metadata": {},
     "output_type": "execute_result"
    }
   ],
   "source": [
    "f = requests.get(\"https://httpbin.org/ip\")\n",
    "f.text"
   ]
  },
  {
   "cell_type": "code",
   "execution_count": 10,
   "metadata": {},
   "outputs": [
    {
     "data": {
      "text/plain": [
       "'217.67.203.51'"
      ]
     },
     "execution_count": 10,
     "metadata": {},
     "output_type": "execute_result"
    }
   ],
   "source": [
    "def mojeIP():\n",
    "    f = requests.get(\"https://httpbin.org/ip\")\n",
    "    j = json.loads(f.text)\n",
    "    return j[\"origin\"]\n",
    "mojeIP()"
   ]
  },
  {
   "cell_type": "code",
   "execution_count": 11,
   "metadata": {},
   "outputs": [
    {
     "data": {
      "text/plain": [
       "'May 3rd is the day in 1849 that the May Uprising in Dresden begins – the last of the German revolutions of 1848.'"
      ]
     },
     "execution_count": 11,
     "metadata": {},
     "output_type": "execute_result"
    }
   ],
   "source": [
    "def ciekawostka(typ, liczba1, liczba2 = None):\n",
    "    if not typ in [\"math\", \"year\", \"trivia\", \"date\"]:\n",
    "        raise ValueError(\"Typ nie jest dobry!\")\n",
    "    if typ == \"date\" and liczba2 is not None:\n",
    "        url = f\"http://numbersapi.com/{liczba1}/{liczba2}/{typ}?json\"\n",
    "    else:\n",
    "        url = f\"http://numbersapi.com/{numer}/{typ}?json\"\n",
    "    f = requests.get(url)\n",
    "    slownikJSON = json.loads(f.text)\n",
    "    return slownikJSON[\"text\"]\n",
    "ciekawostka(\"date\",5, 3)"
   ]
  },
  {
   "cell_type": "code",
   "execution_count": 12,
   "metadata": {},
   "outputs": [
    {
     "data": {
      "text/html": [
       "<div>\n",
       "<style scoped>\n",
       "    .dataframe tbody tr th:only-of-type {\n",
       "        vertical-align: middle;\n",
       "    }\n",
       "\n",
       "    .dataframe tbody tr th {\n",
       "        vertical-align: top;\n",
       "    }\n",
       "\n",
       "    .dataframe thead th {\n",
       "        text-align: right;\n",
       "    }\n",
       "</style>\n",
       "<table border=\"1\" class=\"dataframe\">\n",
       "  <thead>\n",
       "    <tr style=\"text-align: right;\">\n",
       "      <th></th>\n",
       "      <th>liczba</th>\n",
       "      <th>ciekawostka</th>\n",
       "    </tr>\n",
       "  </thead>\n",
       "  <tbody>\n",
       "    <tr>\n",
       "      <th>0</th>\n",
       "      <td>200</td>\n",
       "      <td>200 is the year that Emperor Septimus Severus ...</td>\n",
       "    </tr>\n",
       "    <tr>\n",
       "      <th>1</th>\n",
       "      <td>201</td>\n",
       "      <td>201 is the year that Osroene becomes the first...</td>\n",
       "    </tr>\n",
       "    <tr>\n",
       "      <th>2</th>\n",
       "      <td>202</td>\n",
       "      <td>202 is the year that Rome establishes medical ...</td>\n",
       "    </tr>\n",
       "    <tr>\n",
       "      <th>3</th>\n",
       "      <td>203</td>\n",
       "      <td>203 is the year that Emperor Septimius Severus...</td>\n",
       "    </tr>\n",
       "    <tr>\n",
       "      <th>4</th>\n",
       "      <td>204</td>\n",
       "      <td>204 is the year that the Daysan River floods E...</td>\n",
       "    </tr>\n",
       "    <tr>\n",
       "      <th>5</th>\n",
       "      <td>205</td>\n",
       "      <td>205 is the year that Cao Cao defeats and kills...</td>\n",
       "    </tr>\n",
       "    <tr>\n",
       "      <th>6</th>\n",
       "      <td>206</td>\n",
       "      <td>206 is the year that we do not know what happe...</td>\n",
       "    </tr>\n",
       "    <tr>\n",
       "      <th>7</th>\n",
       "      <td>207</td>\n",
       "      <td>207 is the year that Cao Cao defeats the Wuhua...</td>\n",
       "    </tr>\n",
       "    <tr>\n",
       "      <th>8</th>\n",
       "      <td>208</td>\n",
       "      <td>208 is the year that Emperor Septimius Severus...</td>\n",
       "    </tr>\n",
       "    <tr>\n",
       "      <th>9</th>\n",
       "      <td>209</td>\n",
       "      <td>209 is the year that Severus makes plans to su...</td>\n",
       "    </tr>\n",
       "    <tr>\n",
       "      <th>10</th>\n",
       "      <td>210</td>\n",
       "      <td>210 is the year that the Earth probably went a...</td>\n",
       "    </tr>\n",
       "    <tr>\n",
       "      <th>11</th>\n",
       "      <td>211</td>\n",
       "      <td>211 is the year that Cao Cao writes Ràng Xiàn ...</td>\n",
       "    </tr>\n",
       "    <tr>\n",
       "      <th>12</th>\n",
       "      <td>212</td>\n",
       "      <td>212 is the year that Edessa becomes a Roman pr...</td>\n",
       "    </tr>\n",
       "    <tr>\n",
       "      <th>13</th>\n",
       "      <td>213</td>\n",
       "      <td>213 is the year that Cao Cao, the prime minist...</td>\n",
       "    </tr>\n",
       "    <tr>\n",
       "      <th>14</th>\n",
       "      <td>214</td>\n",
       "      <td>214 is the year that Pang Tong dies in the han...</td>\n",
       "    </tr>\n",
       "    <tr>\n",
       "      <th>15</th>\n",
       "      <td>215</td>\n",
       "      <td>215 is the year that Caracalla's troops massac...</td>\n",
       "    </tr>\n",
       "    <tr>\n",
       "      <th>16</th>\n",
       "      <td>216</td>\n",
       "      <td>216 is the year that Mithraism, which had begu...</td>\n",
       "    </tr>\n",
       "    <tr>\n",
       "      <th>17</th>\n",
       "      <td>217</td>\n",
       "      <td>217 is the year that Caracalla is assassinated...</td>\n",
       "    </tr>\n",
       "    <tr>\n",
       "      <th>18</th>\n",
       "      <td>218</td>\n",
       "      <td>218 is the year that Diadumenianus, son of Mac...</td>\n",
       "    </tr>\n",
       "    <tr>\n",
       "      <th>19</th>\n",
       "      <td>219</td>\n",
       "      <td>219 is the year that Tuoba Liwei becomes the f...</td>\n",
       "    </tr>\n",
       "    <tr>\n",
       "      <th>20</th>\n",
       "      <td>220</td>\n",
       "      <td>220 is the year that the earliest record of cr...</td>\n",
       "    </tr>\n",
       "    <tr>\n",
       "      <th>21</th>\n",
       "      <td>221</td>\n",
       "      <td>221 is the year that Elagabalus is forced to d...</td>\n",
       "    </tr>\n",
       "    <tr>\n",
       "      <th>22</th>\n",
       "      <td>222</td>\n",
       "      <td>222 is the year that the silver content of the...</td>\n",
       "    </tr>\n",
       "    <tr>\n",
       "      <th>23</th>\n",
       "      <td>223</td>\n",
       "      <td>223 is the year that nothing interesting came ...</td>\n",
       "    </tr>\n",
       "    <tr>\n",
       "      <th>24</th>\n",
       "      <td>224</td>\n",
       "      <td>224 is the year that nothing interesting came ...</td>\n",
       "    </tr>\n",
       "    <tr>\n",
       "      <th>25</th>\n",
       "      <td>225</td>\n",
       "      <td>225 is the year that the first Christian paint...</td>\n",
       "    </tr>\n",
       "    <tr>\n",
       "      <th>26</th>\n",
       "      <td>226</td>\n",
       "      <td>226 is the year that the Empire of Parthia falls.</td>\n",
       "    </tr>\n",
       "    <tr>\n",
       "      <th>27</th>\n",
       "      <td>227</td>\n",
       "      <td>227 is the year that Seius Sallustius is execu...</td>\n",
       "    </tr>\n",
       "    <tr>\n",
       "      <th>28</th>\n",
       "      <td>228</td>\n",
       "      <td>228 is the year that the Praetorian Guard kill...</td>\n",
       "    </tr>\n",
       "    <tr>\n",
       "      <th>29</th>\n",
       "      <td>229</td>\n",
       "      <td>229 is the year that Ammonius Saccas renews Gr...</td>\n",
       "    </tr>\n",
       "    <tr>\n",
       "      <th>30</th>\n",
       "      <td>230</td>\n",
       "      <td>230 is the year that Patriarch Castinus succee...</td>\n",
       "    </tr>\n",
       "    <tr>\n",
       "      <th>31</th>\n",
       "      <td>231</td>\n",
       "      <td>231 is the year that Zhuge Liang launches the ...</td>\n",
       "    </tr>\n",
       "    <tr>\n",
       "      <th>32</th>\n",
       "      <td>232</td>\n",
       "      <td>232 is the year that Pope Heraclas of Alexandr...</td>\n",
       "    </tr>\n",
       "    <tr>\n",
       "      <th>33</th>\n",
       "      <td>233</td>\n",
       "      <td>233 is the year that Emperor Alexander Severus...</td>\n",
       "    </tr>\n",
       "    <tr>\n",
       "      <th>34</th>\n",
       "      <td>234</td>\n",
       "      <td>234 is the year that Wei Yan is executed for t...</td>\n",
       "    </tr>\n",
       "    <tr>\n",
       "      <th>35</th>\n",
       "      <td>235</td>\n",
       "      <td>235 is the year that Emperor Alexander Severus...</td>\n",
       "    </tr>\n",
       "    <tr>\n",
       "      <th>36</th>\n",
       "      <td>236</td>\n",
       "      <td>236 is the year that Emperor Maximinus Thrax a...</td>\n",
       "    </tr>\n",
       "    <tr>\n",
       "      <th>37</th>\n",
       "      <td>237</td>\n",
       "      <td>237 is the year that Patriarch Eugenius I succ...</td>\n",
       "    </tr>\n",
       "    <tr>\n",
       "      <th>38</th>\n",
       "      <td>238</td>\n",
       "      <td>238 is the year that the Colosseum is restored...</td>\n",
       "    </tr>\n",
       "    <tr>\n",
       "      <th>39</th>\n",
       "      <td>239</td>\n",
       "      <td>239 is the year that Origen publishes the Old ...</td>\n",
       "    </tr>\n",
       "    <tr>\n",
       "      <th>40</th>\n",
       "      <td>240</td>\n",
       "      <td>240 is the year that Maharaja Sri-Gupta become...</td>\n",
       "    </tr>\n",
       "    <tr>\n",
       "      <th>41</th>\n",
       "      <td>241</td>\n",
       "      <td>241 is the year that Shapur I succeeds his fat...</td>\n",
       "    </tr>\n",
       "    <tr>\n",
       "      <th>42</th>\n",
       "      <td>242</td>\n",
       "      <td>242 is the year that Shapur I makes a pre-empt...</td>\n",
       "    </tr>\n",
       "    <tr>\n",
       "      <th>43</th>\n",
       "      <td>243</td>\n",
       "      <td>243 is the year that Timesitheus becomes ill a...</td>\n",
       "    </tr>\n",
       "    <tr>\n",
       "      <th>44</th>\n",
       "      <td>244</td>\n",
       "      <td>244 is the year that Emperor Gordian III is mu...</td>\n",
       "    </tr>\n",
       "    <tr>\n",
       "      <th>45</th>\n",
       "      <td>245</td>\n",
       "      <td>245 is the year that Plotinus goes to live in ...</td>\n",
       "    </tr>\n",
       "    <tr>\n",
       "      <th>46</th>\n",
       "      <td>246</td>\n",
       "      <td>246 is the year that Emperor Philip the Arab f...</td>\n",
       "    </tr>\n",
       "    <tr>\n",
       "      <th>47</th>\n",
       "      <td>247</td>\n",
       "      <td>247 is the year that Himiko of Yamataikoku, in...</td>\n",
       "    </tr>\n",
       "    <tr>\n",
       "      <th>48</th>\n",
       "      <td>248</td>\n",
       "      <td>248 is the year that the Roman Empire continue...</td>\n",
       "    </tr>\n",
       "    <tr>\n",
       "      <th>49</th>\n",
       "      <td>249</td>\n",
       "      <td>249 is the year that Decius begins persecuting...</td>\n",
       "    </tr>\n",
       "    <tr>\n",
       "      <th>50</th>\n",
       "      <td>250</td>\n",
       "      <td>250 is the year that the Kingdom of Aksum (Axu...</td>\n",
       "    </tr>\n",
       "  </tbody>\n",
       "</table>\n",
       "</div>"
      ],
      "text/plain": [
       "    liczba                                        ciekawostka\n",
       "0      200  200 is the year that Emperor Septimus Severus ...\n",
       "1      201  201 is the year that Osroene becomes the first...\n",
       "2      202  202 is the year that Rome establishes medical ...\n",
       "3      203  203 is the year that Emperor Septimius Severus...\n",
       "4      204  204 is the year that the Daysan River floods E...\n",
       "5      205  205 is the year that Cao Cao defeats and kills...\n",
       "6      206  206 is the year that we do not know what happe...\n",
       "7      207  207 is the year that Cao Cao defeats the Wuhua...\n",
       "8      208  208 is the year that Emperor Septimius Severus...\n",
       "9      209  209 is the year that Severus makes plans to su...\n",
       "10     210  210 is the year that the Earth probably went a...\n",
       "11     211  211 is the year that Cao Cao writes Ràng Xiàn ...\n",
       "12     212  212 is the year that Edessa becomes a Roman pr...\n",
       "13     213  213 is the year that Cao Cao, the prime minist...\n",
       "14     214  214 is the year that Pang Tong dies in the han...\n",
       "15     215  215 is the year that Caracalla's troops massac...\n",
       "16     216  216 is the year that Mithraism, which had begu...\n",
       "17     217  217 is the year that Caracalla is assassinated...\n",
       "18     218  218 is the year that Diadumenianus, son of Mac...\n",
       "19     219  219 is the year that Tuoba Liwei becomes the f...\n",
       "20     220  220 is the year that the earliest record of cr...\n",
       "21     221  221 is the year that Elagabalus is forced to d...\n",
       "22     222  222 is the year that the silver content of the...\n",
       "23     223  223 is the year that nothing interesting came ...\n",
       "24     224  224 is the year that nothing interesting came ...\n",
       "25     225  225 is the year that the first Christian paint...\n",
       "26     226  226 is the year that the Empire of Parthia falls.\n",
       "27     227  227 is the year that Seius Sallustius is execu...\n",
       "28     228  228 is the year that the Praetorian Guard kill...\n",
       "29     229  229 is the year that Ammonius Saccas renews Gr...\n",
       "30     230  230 is the year that Patriarch Castinus succee...\n",
       "31     231  231 is the year that Zhuge Liang launches the ...\n",
       "32     232  232 is the year that Pope Heraclas of Alexandr...\n",
       "33     233  233 is the year that Emperor Alexander Severus...\n",
       "34     234  234 is the year that Wei Yan is executed for t...\n",
       "35     235  235 is the year that Emperor Alexander Severus...\n",
       "36     236  236 is the year that Emperor Maximinus Thrax a...\n",
       "37     237  237 is the year that Patriarch Eugenius I succ...\n",
       "38     238  238 is the year that the Colosseum is restored...\n",
       "39     239  239 is the year that Origen publishes the Old ...\n",
       "40     240  240 is the year that Maharaja Sri-Gupta become...\n",
       "41     241  241 is the year that Shapur I succeeds his fat...\n",
       "42     242  242 is the year that Shapur I makes a pre-empt...\n",
       "43     243  243 is the year that Timesitheus becomes ill a...\n",
       "44     244  244 is the year that Emperor Gordian III is mu...\n",
       "45     245  245 is the year that Plotinus goes to live in ...\n",
       "46     246  246 is the year that Emperor Philip the Arab f...\n",
       "47     247  247 is the year that Himiko of Yamataikoku, in...\n",
       "48     248  248 is the year that the Roman Empire continue...\n",
       "49     249  249 is the year that Decius begins persecuting...\n",
       "50     250  250 is the year that the Kingdom of Aksum (Axu..."
      ]
     },
     "execution_count": 12,
     "metadata": {},
     "output_type": "execute_result"
    }
   ],
   "source": [
    "def masoweCiekawostki(minLiczba, maxLiczba, typ):\n",
    "    \n",
    "    liczby = []\n",
    "    ciekawostki = []\n",
    "    \n",
    "    f = requests.get(f\"http://numbersapi.com/{minLiczba}..{maxLiczba}/{typ}\")\n",
    "    j = json.loads(f.text)\n",
    "    \n",
    "    for liczba in range(minLiczba, maxLiczba+1):\n",
    "        liczby.append(liczba)\n",
    "        ciekawostki.append(j[str(liczba)])\n",
    "        \n",
    "    return pd.DataFrame({\"liczba\": liczby, \"ciekawostka\": ciekawostki})\n",
    "\n",
    "masoweCiekawostki(200,250, \"year\")"
   ]
  },
  {
   "cell_type": "code",
   "execution_count": null,
   "metadata": {},
   "outputs": [],
   "source": []
  }
 ],
 "metadata": {
  "kernelspec": {
   "display_name": "Python 3",
   "language": "python",
   "name": "python3"
  },
  "language_info": {
   "codemirror_mode": {
    "name": "ipython",
    "version": 3
   },
   "file_extension": ".py",
   "mimetype": "text/x-python",
   "name": "python",
   "nbconvert_exporter": "python",
   "pygments_lexer": "ipython3",
   "version": "3.6.5"
  }
 },
 "nbformat": 4,
 "nbformat_minor": 2
}
